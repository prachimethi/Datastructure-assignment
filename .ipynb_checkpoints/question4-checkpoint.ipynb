{
 "cells": [
  {
   "cell_type": "raw",
   "id": "3419a5f1-6b68-4015-a58c-0319c65cd34b",
   "metadata": {},
   "source": [
    "question4 Comapre and contrast tuples and lists with example?"
   ]
  },
  {
   "cell_type": "markdown",
   "id": "d024aa4b-5697-400c-8700-96edb845bb60",
   "metadata": {},
   "source": [
    "SIMILARITIES"
   ]
  },
  {
   "cell_type": "raw",
   "id": "3ca1b741-0d8e-4004-8ab8-4555392e0bd0",
   "metadata": {},
   "source": [
    "1.Ordered Collections: Both tuples and lists maintain the order of the elements. This means that you can access elements\n",
    "by their index."
   ]
  },
  {
   "cell_type": "code",
   "execution_count": 6,
   "id": "b6e2fb74-bb0a-4ddf-9b01-53f0842e9d36",
   "metadata": {},
   "outputs": [
    {
     "data": {
      "text/plain": [
       "'prachi'"
      ]
     },
     "execution_count": 6,
     "metadata": {},
     "output_type": "execute_result"
    }
   ],
   "source": [
    "#example\n",
    "list = [ \"prachi\" , 1 , 2 , 2.5 , \"pwskills\" ]\n",
    "list[0]"
   ]
  },
  {
   "cell_type": "code",
   "execution_count": 8,
   "id": "382c16e7-f982-4488-ae34-f7190fe18b9c",
   "metadata": {},
   "outputs": [
    {
     "data": {
      "text/plain": [
       "'prachi'"
      ]
     },
     "execution_count": 8,
     "metadata": {},
     "output_type": "execute_result"
    }
   ],
   "source": [
    "tuple = ( \"prachi\" , 1 , 2 , 2.5 , \"pwskills\")\n",
    "tuple[0]"
   ]
  },
  {
   "cell_type": "raw",
   "id": "2250e10a-96a9-4383-994f-0228961b7e50",
   "metadata": {},
   "source": [
    "2.Indexing: You can access elements using indices, starting from 0. For example, for both types, collection[0] will access the first item."
   ]
  },
  {
   "cell_type": "code",
   "execution_count": 9,
   "id": "2c7e428f-b301-4c06-bd4a-aeb41746443b",
   "metadata": {},
   "outputs": [
    {
     "data": {
      "text/plain": [
       "[1, 2]"
      ]
     },
     "execution_count": 9,
     "metadata": {},
     "output_type": "execute_result"
    }
   ],
   "source": [
    "#EXAMPLE\n",
    "list = [ \"prachi\" , 1 , 2 , 2.5 , \"pwskills\" ]\n",
    "list[1:3]"
   ]
  },
  {
   "cell_type": "code",
   "execution_count": 10,
   "id": "9aeafe50-4d72-4b6f-8128-4b2b2508a446",
   "metadata": {},
   "outputs": [
    {
     "data": {
      "text/plain": [
       "'pwskills'"
      ]
     },
     "execution_count": 10,
     "metadata": {},
     "output_type": "execute_result"
    }
   ],
   "source": [
    "tuple = ( \"prachi\" , 1 , 2 , 2.5 , \"pwskills\")\n",
    "tuple[-1]"
   ]
  },
  {
   "cell_type": "raw",
   "id": "dd4e01ca-9bb5-4a48-b678-aae0f0f72540",
   "metadata": {},
   "source": [
    "3.Can Contain Different Data Types: Both tuples and lists can hold elements of different data types. For example, they can both contain integers, strings, or even other lists or tuples."
   ]
  },
  {
   "cell_type": "code",
   "execution_count": 11,
   "id": "726f8474-082f-42b1-9fae-1d1d7656341f",
   "metadata": {},
   "outputs": [
    {
     "data": {
      "text/plain": [
       "list"
      ]
     },
     "execution_count": 11,
     "metadata": {},
     "output_type": "execute_result"
    }
   ],
   "source": [
    "#EXAMPLE\n",
    "list = [ \"prachi\" , 1 , 2 , 2.5 , \"pwskills\", 3+5j ]\n",
    "type(list)"
   ]
  },
  {
   "cell_type": "code",
   "execution_count": 12,
   "id": "582526bf-7113-4b5d-9b1e-e3696992020c",
   "metadata": {},
   "outputs": [
    {
     "data": {
      "text/plain": [
       "tuple"
      ]
     },
     "execution_count": 12,
     "metadata": {},
     "output_type": "execute_result"
    }
   ],
   "source": [
    "tuple =( \"prachi\" , 1 , 2 , 2.5 , \"pwskills\", 3+5j )\n",
    "type(tuple)"
   ]
  },
  {
   "cell_type": "markdown",
   "id": "01b1c423-cab7-491b-a7c3-99c145e53211",
   "metadata": {},
   "source": [
    "DIFFERENCE"
   ]
  },
  {
   "cell_type": "raw",
   "id": "2cd6ea55-6a53-4839-98af-51bf71c9be5d",
   "metadata": {},
   "source": [
    "1.Mutability:\n",
    "\n",
    "1.Tuples: Immutable. Once a tuple is created, its elements cannot be modified, added, or removed. This immutability makes tuples useful for fixed collections of items.\n",
    "\n",
    "2.Lists: Mutable. You can change, add, or remove elements after a list is created."
   ]
  },
  {
   "cell_type": "code",
   "execution_count": 14,
   "id": "a41be91b-c412-4808-925b-2c8726a7a5a0",
   "metadata": {},
   "outputs": [
    {
     "data": {
      "text/plain": [
       "['prachi', 1, 2, 2.5, 'pwskills', (3+5j), 5]"
      ]
     },
     "execution_count": 14,
     "metadata": {},
     "output_type": "execute_result"
    }
   ],
   "source": [
    "#EXAMPLE of list\n",
    "list = [ \"prachi\" , 1 , 2 , 2.5 , \"pwskills\", 3+5j ]\n",
    "list.append(5)\n",
    "list"
   ]
  },
  {
   "cell_type": "code",
   "execution_count": 15,
   "id": "4fe2c0e4-e0ac-4e54-9205-b4ac82d248ee",
   "metadata": {},
   "outputs": [
    {
     "data": {
      "text/plain": [
       "['prachi', 1, 2, 2.5, 'pwskills', (3+5j)]"
      ]
     },
     "execution_count": 15,
     "metadata": {},
     "output_type": "execute_result"
    }
   ],
   "source": [
    "list.remove(5)\n",
    "list"
   ]
  },
  {
   "cell_type": "code",
   "execution_count": 17,
   "id": "b64d504b-deba-43de-b34e-4c0b1e0f4ceb",
   "metadata": {},
   "outputs": [
    {
     "data": {
      "text/plain": [
       "['prachi', 1, 2, 2.5, 'apple', (3+5j)]"
      ]
     },
     "execution_count": 17,
     "metadata": {},
     "output_type": "execute_result"
    }
   ],
   "source": [
    "list[4] = \"apple\"\n",
    "list"
   ]
  },
  {
   "cell_type": "raw",
   "id": "f88e7838-7433-43d2-b7a9-f7d98d962334",
   "metadata": {},
   "source": [
    "2.Syntax:\n",
    "Tuples: Created using parentheses (). For example: (1, 2, 3).\n",
    "Lists: Created using square brackets []. For example: [1, 2, 3]."
   ]
  },
  {
   "cell_type": "code",
   "execution_count": 19,
   "id": "261f4cfb-c4e6-4c89-bdd1-6269649b1b56",
   "metadata": {},
   "outputs": [],
   "source": [
    "#example:\n",
    "list = [ \"prachi\" , 1 , 2 , 2.5 , \"pwskills\", 3+5j ]\n",
    "tuple =( \"prachi\" , 1 , 2 , 2.5 , \"pwskills\", 3+5j)"
   ]
  },
  {
   "cell_type": "raw",
   "id": "d0600f02-b986-4996-9a1d-7dcfcefbc1cb",
   "metadata": {},
   "source": [
    "3.Methods:\n",
    "\n",
    "Tuples: Limited methods; mainly count() and index().\n",
    "Lists: Have a wide range of methods like append(), extend(), remove(), pop(), and sort()."
   ]
  },
  {
   "cell_type": "code",
   "execution_count": 23,
   "id": "4aadd3c2-7819-4626-becd-633499b6c329",
   "metadata": {},
   "outputs": [
    {
     "data": {
      "text/plain": [
       "2"
      ]
     },
     "execution_count": 23,
     "metadata": {},
     "output_type": "execute_result"
    }
   ],
   "source": [
    "#example of tuples count method\n",
    "tuple =( \"prachi\" , 1 , 2 , 2.5 ,\"prachi\" , \"pwskills\", 3+5j)\n",
    "tuple.count(\"prachi\")"
   ]
  },
  {
   "cell_type": "code",
   "execution_count": 24,
   "id": "6a764b0f-b7fd-426c-8ab6-02db922fa378",
   "metadata": {},
   "outputs": [
    {
     "data": {
      "text/plain": [
       "'prachi'"
      ]
     },
     "execution_count": 24,
     "metadata": {},
     "output_type": "execute_result"
    }
   ],
   "source": [
    "#index method\n",
    "tuple =( \"prachi\" , 1 , 2 , 2.5 ,\"prachi\" , \"pwskills\", 3+5j)\n",
    "tuple[0]"
   ]
  },
  {
   "cell_type": "code",
   "execution_count": 26,
   "id": "ae3f1a9d-0cb3-4caa-879d-7b8aac7d441a",
   "metadata": {},
   "outputs": [
    {
     "data": {
      "text/plain": [
       "['prachi', 1, 2, 2.5, 'pwskills', (3+5j), 5]"
      ]
     },
     "execution_count": 26,
     "metadata": {},
     "output_type": "execute_result"
    }
   ],
   "source": [
    "#examples of list append method\n",
    "list = [ \"prachi\" , 1 , 2 , 2.5 , \"pwskills\", 3+5j ]\n",
    "list.append(5)\n",
    "list"
   ]
  },
  {
   "cell_type": "code",
   "execution_count": 27,
   "id": "0c84e73d-9a85-48cc-9c32-de37b8785097",
   "metadata": {},
   "outputs": [
    {
     "data": {
      "text/plain": [
       "5"
      ]
     },
     "execution_count": 27,
     "metadata": {},
     "output_type": "execute_result"
    }
   ],
   "source": [
    "#pop method\n",
    "list.pop()\n"
   ]
  },
  {
   "cell_type": "code",
   "execution_count": 32,
   "id": "d7000c28-aad7-4056-a7e3-4f36dc08fea7",
   "metadata": {},
   "outputs": [
    {
     "data": {
      "text/plain": [
       "['algo', 'crate', 'datascience']"
      ]
     },
     "execution_count": 32,
     "metadata": {},
     "output_type": "execute_result"
    }
   ],
   "source": [
    "#sort method\n",
    "book = [ \"datascience\" , \"algo\" , \"crate\" ]\n",
    "sorted(book)"
   ]
  },
  {
   "cell_type": "code",
   "execution_count": null,
   "id": "3a615f89-ea91-42fd-907b-85a1d304e586",
   "metadata": {},
   "outputs": [],
   "source": []
  }
 ],
 "metadata": {
  "kernelspec": {
   "display_name": "Python 3 (ipykernel)",
   "language": "python",
   "name": "python3"
  },
  "language_info": {
   "codemirror_mode": {
    "name": "ipython",
    "version": 3
   },
   "file_extension": ".py",
   "mimetype": "text/x-python",
   "name": "python",
   "nbconvert_exporter": "python",
   "pygments_lexer": "ipython3",
   "version": "3.10.8"
  }
 },
 "nbformat": 4,
 "nbformat_minor": 5
}
