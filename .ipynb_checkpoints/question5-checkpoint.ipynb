{
 "cells": [
  {
   "cell_type": "raw",
   "id": "69592b37-ec24-4487-b9ba-7bb3140a06f3",
   "metadata": {},
   "source": [
    "question5 describe the key features of sets and provide example of their use"
   ]
  },
  {
   "cell_type": "code",
   "execution_count": 1,
   "id": "ccadfa4f-6251-487f-a1f4-2403f1d8d3e3",
   "metadata": {},
   "outputs": [],
   "source": [
    "# Key features of sets :"
   ]
  },
  {
   "cell_type": "code",
   "execution_count": 7,
   "id": "1e8f55cf-82b4-43c0-8f1a-f36993fc7023",
   "metadata": {},
   "outputs": [
    {
     "data": {
      "text/plain": [
       "{1, 2, 3, 4, 5, 28}"
      ]
     },
     "execution_count": 7,
     "metadata": {},
     "output_type": "execute_result"
    }
   ],
   "source": [
    "#add method >> add elements to the set, but it is not cumpulsory that it will add in the last of set\n",
    "set = { 1 , 2, 3, 4, 5 }\n",
    "set.add(28)\n",
    "set"
   ]
  },
  {
   "cell_type": "code",
   "execution_count": 8,
   "id": "1dc59fe5-6798-4d71-8c17-9043079f6b2e",
   "metadata": {},
   "outputs": [
    {
     "data": {
      "text/plain": [
       "1"
      ]
     },
     "execution_count": 8,
     "metadata": {},
     "output_type": "execute_result"
    }
   ],
   "source": [
    "# pop method >> removes the element from the set but it is not cumpulsory toremove element from the last\n",
    "set = { 1, 2, 3, 4, 5}\n",
    "set.pop()\n"
   ]
  },
  {
   "cell_type": "code",
   "execution_count": 10,
   "id": "56960463-c65b-4e58-8ade-dd29bbc50544",
   "metadata": {},
   "outputs": [
    {
     "data": {
      "text/plain": [
       "{1, 2, 4, 5}"
      ]
     },
     "execution_count": 10,
     "metadata": {},
     "output_type": "execute_result"
    }
   ],
   "source": [
    "#remove method >> removes the specific element that we select\n",
    "set = { 1, 2, 3, 4, 5}\n",
    "set.remove(3)\n",
    "set"
   ]
  },
  {
   "cell_type": "code",
   "execution_count": 12,
   "id": "92b69b36-2869-45ba-bc3d-c6a2cb480f5b",
   "metadata": {},
   "outputs": [
    {
     "data": {
      "text/plain": [
       "{1, 2, 3, 4, 5, 'a', 'e', 'p', 's'}"
      ]
     },
     "execution_count": 12,
     "metadata": {},
     "output_type": "execute_result"
    }
   ],
   "source": [
    "#update method >> it takes the element in the form of iterable\n",
    "set = { 1, 2, 3, 4, 5}\n",
    "set.update(\"peas\")\n",
    "set"
   ]
  },
  {
   "cell_type": "code",
   "execution_count": 14,
   "id": "f13a92e3-075d-4920-8185-33a84997a65b",
   "metadata": {},
   "outputs": [
    {
     "data": {
      "text/plain": [
       "{1, 2, 3, 4, 5, 'a', 'e', 'p', 'pear', 's'}"
      ]
     },
     "execution_count": 14,
     "metadata": {},
     "output_type": "execute_result"
    }
   ],
   "source": [
    "#if we want the full element together\n",
    "set.update([\"pear\"])\n",
    "set"
   ]
  },
  {
   "cell_type": "code",
   "execution_count": 16,
   "id": "0b2105c7-a827-403e-8a85-18ca57f835a3",
   "metadata": {},
   "outputs": [
    {
     "data": {
      "text/plain": [
       "set()"
      ]
     },
     "execution_count": 16,
     "metadata": {},
     "output_type": "execute_result"
    }
   ],
   "source": [
    "#clear method >> clears all the element from the set\n",
    "set = { 1, 2, 3, 4, 5}\n",
    "set.clear()\n",
    "set"
   ]
  },
  {
   "cell_type": "code",
   "execution_count": 17,
   "id": "bd9be1be-0bbc-443d-ad5d-918c5469e9c9",
   "metadata": {},
   "outputs": [],
   "source": [
    "#set operation"
   ]
  },
  {
   "cell_type": "code",
   "execution_count": 19,
   "id": "6911c693-f0ea-4877-b4b9-8f90a1b37862",
   "metadata": {},
   "outputs": [
    {
     "data": {
      "text/plain": [
       "{'coding', 'hikinng', 'jumping', 'travel'}"
      ]
     },
     "execution_count": 19,
     "metadata": {},
     "output_type": "execute_result"
    }
   ],
   "source": [
    "#union>> combine all the elements from two sets excluding duplicates\n",
    "activity1 = { \"hikinng\", \"coding\" , \"jumping\"}\n",
    "activity2 = { \"travel\" , \"coding\" }\n",
    "activity1 | activity2"
   ]
  },
  {
   "cell_type": "code",
   "execution_count": 20,
   "id": "70403a6c-a8b6-4123-8c1f-59721875561e",
   "metadata": {},
   "outputs": [
    {
     "data": {
      "text/plain": [
       "{'coding'}"
      ]
     },
     "execution_count": 20,
     "metadata": {},
     "output_type": "execute_result"
    }
   ],
   "source": [
    "#intersection >> execute only common elements\n",
    "activity1 = { \"hikinng\", \"coding\" , \"jumping\"}\n",
    "activity2 = { \"travel\" , \"coding\" }\n",
    "activity1 & activity2"
   ]
  },
  {
   "cell_type": "code",
   "execution_count": 21,
   "id": "0b644d3d-ccb8-4e96-bb06-515493ed1012",
   "metadata": {},
   "outputs": [
    {
     "data": {
      "text/plain": [
       "{'hikinng', 'jumping'}"
      ]
     },
     "execution_count": 21,
     "metadata": {},
     "output_type": "execute_result"
    }
   ],
   "source": [
    "#difference >> returns the element that present in first set and not in second set\n",
    "activity1 = { \"hikinng\", \"coding\" , \"jumping\"}\n",
    "activity2 = { \"travel\" , \"coding\" }\n",
    "activity1 - activity2"
   ]
  },
  {
   "cell_type": "code",
   "execution_count": 22,
   "id": "dafe1891-ae55-4d44-a889-2fd7b86f7f53",
   "metadata": {},
   "outputs": [
    {
     "data": {
      "text/plain": [
       "{'hikinng', 'jumping', 'travel'}"
      ]
     },
     "execution_count": 22,
     "metadata": {},
     "output_type": "execute_result"
    }
   ],
   "source": [
    "#symmetric difference >> returns only the value that are not common in both first and second set\n",
    "activity1 = { \"hikinng\", \"coding\" , \"jumping\"}\n",
    "activity2 = { \"travel\" , \"coding\" }\n",
    "activity1^activity2"
   ]
  },
  {
   "cell_type": "code",
   "execution_count": 23,
   "id": "ff9d2647-8844-4195-bb34-930873506c73",
   "metadata": {},
   "outputs": [
    {
     "data": {
      "text/plain": [
       "frozenset"
      ]
     },
     "execution_count": 23,
     "metadata": {},
     "output_type": "execute_result"
    }
   ],
   "source": [
    "#frozen sets>> it is a imutable version of sets, cannot be added or remove new element\n",
    "frozenset = frozenset([1, 2, 3, 4])\n",
    "type(frozenset)"
   ]
  },
  {
   "cell_type": "code",
   "execution_count": null,
   "id": "b233097c-9885-4667-be57-5fb5521efca2",
   "metadata": {},
   "outputs": [],
   "source": []
  }
 ],
 "metadata": {
  "kernelspec": {
   "display_name": "Python 3 (ipykernel)",
   "language": "python",
   "name": "python3"
  },
  "language_info": {
   "codemirror_mode": {
    "name": "ipython",
    "version": 3
   },
   "file_extension": ".py",
   "mimetype": "text/x-python",
   "name": "python",
   "nbconvert_exporter": "python",
   "pygments_lexer": "ipython3",
   "version": "3.10.8"
  }
 },
 "nbformat": 4,
 "nbformat_minor": 5
}
