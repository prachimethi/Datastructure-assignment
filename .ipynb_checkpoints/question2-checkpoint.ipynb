{
 "cells": [
  {
   "cell_type": "raw",
   "id": "8e4f1c1f-2ffe-4125-975c-32c4df3362fa",
   "metadata": {},
   "source": [
    "ques2 Explain the key features of lists in python"
   ]
  },
  {
   "cell_type": "code",
   "execution_count": 1,
   "id": "225cfc86-cab5-45ca-81dd-3fe7a4229cd6",
   "metadata": {},
   "outputs": [],
   "source": [
    "#lists are ordered collection of items.\n",
    "#it is hetrogenous and store any data type\n",
    "#list are mutable"
   ]
  },
  {
   "cell_type": "code",
   "execution_count": 8,
   "id": "6d3ae57a-ebb1-4d3c-81ea-aae9e4b4fcac",
   "metadata": {},
   "outputs": [
    {
     "data": {
      "text/plain": [
       "list"
      ]
     },
     "execution_count": 8,
     "metadata": {},
     "output_type": "execute_result"
    }
   ],
   "source": [
    "list = [ \"prachi\" , \"pwskills\" , 1,4, 5.2j, ]\n",
    "type(list)"
   ]
  },
  {
   "cell_type": "markdown",
   "id": "a591d9d8-37f1-49e5-9dd6-978b4c4f7fa6",
   "metadata": {},
   "source": [
    "indexing"
   ]
  },
  {
   "cell_type": "code",
   "execution_count": 9,
   "id": "16984934-72eb-4f37-898d-ae42e7c7b94b",
   "metadata": {},
   "outputs": [
    {
     "data": {
      "text/plain": [
       "'prachi'"
      ]
     },
     "execution_count": 9,
     "metadata": {},
     "output_type": "execute_result"
    }
   ],
   "source": [
    "#indexing\n",
    "list[0]"
   ]
  },
  {
   "cell_type": "code",
   "execution_count": 4,
   "id": "e8ea87f5-8aac-45ce-85d3-990492a43de4",
   "metadata": {},
   "outputs": [
    {
     "data": {
      "text/plain": [
       "'pwskills'"
      ]
     },
     "execution_count": 4,
     "metadata": {},
     "output_type": "execute_result"
    }
   ],
   "source": [
    "#negative indexing\n",
    "list[-4]"
   ]
  },
  {
   "cell_type": "code",
   "execution_count": 6,
   "id": "95b4e751-2c91-42dd-9720-ed555d0576b3",
   "metadata": {},
   "outputs": [
    {
     "data": {
      "text/plain": [
       "'heera'"
      ]
     },
     "execution_count": 6,
     "metadata": {},
     "output_type": "execute_result"
    }
   ],
   "source": [
    "#to change element using indexing\n",
    "list[-1] = \"heera\"\n",
    "list[-1]"
   ]
  },
  {
   "cell_type": "code",
   "execution_count": 7,
   "id": "baa4e5cc-c839-4c3d-b0ee-251931a98a6e",
   "metadata": {},
   "outputs": [
    {
     "data": {
      "text/plain": [
       "['prachi', 'pwskills', 1, 4, 'heera']"
      ]
     },
     "execution_count": 7,
     "metadata": {},
     "output_type": "execute_result"
    }
   ],
   "source": [
    "list"
   ]
  },
  {
   "cell_type": "markdown",
   "id": "eb7eb762-8516-4678-850d-f59802321e3e",
   "metadata": {},
   "source": [
    "slicing in lists"
   ]
  },
  {
   "cell_type": "code",
   "execution_count": 14,
   "id": "0c056eba-77be-4cb2-9371-2912ddbadc5e",
   "metadata": {},
   "outputs": [
    {
     "data": {
      "text/plain": [
       "['krish', 'vansh', 'radha']"
      ]
     },
     "execution_count": 14,
     "metadata": {},
     "output_type": "execute_result"
    }
   ],
   "source": [
    "#start to end\n",
    "name = [ \"prachi\" , \"krish\" , \"vansh\" , \"radha\" ]\n",
    "name[ 1: ]"
   ]
  },
  {
   "cell_type": "code",
   "execution_count": 18,
   "id": "0c16ac41-4062-411f-9612-1127920fe4ff",
   "metadata": {},
   "outputs": [
    {
     "data": {
      "text/plain": [
       "['krish', 'vansh']"
      ]
     },
     "execution_count": 18,
     "metadata": {},
     "output_type": "execute_result"
    }
   ],
   "source": [
    "#from 1st to 2nd\n",
    "name [1:3]"
   ]
  },
  {
   "cell_type": "code",
   "execution_count": 22,
   "id": "6845b756-c1bf-4290-9c2d-f1f78a1df945",
   "metadata": {},
   "outputs": [
    {
     "data": {
      "text/plain": [
       "'vansh'"
      ]
     },
     "execution_count": 22,
     "metadata": {},
     "output_type": "execute_result"
    }
   ],
   "source": [
    "#ngative indicies\n",
    "name[ -2 ]"
   ]
  },
  {
   "cell_type": "markdown",
   "id": "edba2fba-a976-450a-8ba9-f5298c37b030",
   "metadata": {},
   "source": [
    "append method"
   ]
  },
  {
   "cell_type": "code",
   "execution_count": 3,
   "id": "d20c0542-9c8a-4803-a826-7e7c532c4b70",
   "metadata": {},
   "outputs": [
    {
     "data": {
      "text/plain": [
       "['apple', 'grapes', 'banana', 'orange']"
      ]
     },
     "execution_count": 3,
     "metadata": {},
     "output_type": "execute_result"
    }
   ],
   "source": [
    "#ADD ELEMENTS TO THE LIST\n",
    "fruitslist = [ \"apple\" , \"grapes\", \"banana\"]\n",
    "fruitslist.append(\"orange\")\n",
    "fruitslist"
   ]
  },
  {
   "cell_type": "markdown",
   "id": "5151e4ab-0ea5-4c56-8f1b-808d24b7b3bb",
   "metadata": {},
   "source": [
    "#INSERT METHOD"
   ]
  },
  {
   "cell_type": "code",
   "execution_count": 5,
   "id": "5f5b5d81-e621-4b2e-bc0a-1f13540d9991",
   "metadata": {},
   "outputs": [
    {
     "data": {
      "text/plain": [
       "['kartik', 'veer', 'vansh', 'prachi', 'yash']"
      ]
     },
     "execution_count": 5,
     "metadata": {},
     "output_type": "execute_result"
    }
   ],
   "source": [
    "#insert object before index\n",
    "Name = [ \"kartik\" , \"veer\" , \"prachi\" , \"yash\" ]\n",
    "Name.insert(2, \"vansh\")\n",
    "Name"
   ]
  },
  {
   "cell_type": "markdown",
   "id": "80449630-745b-49a0-877b-903a0be938e3",
   "metadata": {},
   "source": [
    "#EXTEND METHOD"
   ]
  },
  {
   "cell_type": "code",
   "execution_count": 7,
   "id": "7f70afe4-6364-4706-a4fc-07d720992920",
   "metadata": {},
   "outputs": [
    {
     "data": {
      "text/plain": [
       "['apple', 'mango', 'peas', 'potato', 'tomato']"
      ]
     },
     "execution_count": 7,
     "metadata": {},
     "output_type": "execute_result"
    }
   ],
   "source": [
    "#It used to append elements from the another list\n",
    "fruits = [ \"apple\" , \"mango\" ]\n",
    "vegetables = [ \"peas\" , \"potato\" , \"tomato\" ]\n",
    "fruits.extend(vegetables)\n",
    "fruits"
   ]
  },
  {
   "cell_type": "markdown",
   "id": "843cb497-32da-48ac-8ef6-f7f5cd8d825f",
   "metadata": {},
   "source": [
    "#REPEATATION OPERATION"
   ]
  },
  {
   "cell_type": "code",
   "execution_count": 18,
   "id": "006c29d2-2bd5-4068-b4c4-d2bb9528d03c",
   "metadata": {},
   "outputs": [
    {
     "data": {
      "text/plain": [
       "['a', 'b', 'c', 'a', 'b', 'c', 'a', 'b', 'c', 'a', 'b', 'c', 'a', 'b', 'c']"
      ]
     },
     "execution_count": 18,
     "metadata": {},
     "output_type": "execute_result"
    }
   ],
   "source": [
    "List = [ \"a\" , \"b\" , \"c\" ]\n",
    "List*5"
   ]
  },
  {
   "cell_type": "code",
   "execution_count": 20,
   "id": "40acf71c-46da-4450-a829-7f8ef17fe2be",
   "metadata": {},
   "outputs": [
    {
     "data": {
      "text/plain": [
       "'bbb'"
      ]
     },
     "execution_count": 20,
     "metadata": {},
     "output_type": "execute_result"
    }
   ],
   "source": [
    "#if we want to repeat only a single character\n",
    "List[1]*3"
   ]
  },
  {
   "cell_type": "markdown",
   "id": "88641bd6-6d74-45e6-bc0d-74f8452f2cd2",
   "metadata": {},
   "source": [
    "#MEMBERSHIP IN , NOT IN"
   ]
  },
  {
   "cell_type": "code",
   "execution_count": 25,
   "id": "0125ab1c-66bb-42ae-85b3-3fb4f1293edf",
   "metadata": {},
   "outputs": [
    {
     "data": {
      "text/plain": [
       "True"
      ]
     },
     "execution_count": 25,
     "metadata": {},
     "output_type": "execute_result"
    }
   ],
   "source": [
    "#in operator\n",
    "number = [ 123 , 45 , 789 , 525 ]\n",
    "123 in number"
   ]
  },
  {
   "cell_type": "code",
   "execution_count": 26,
   "id": "7f07476b-4ad1-45e8-8930-0e702a394843",
   "metadata": {},
   "outputs": [
    {
     "data": {
      "text/plain": [
       "False"
      ]
     },
     "execution_count": 26,
     "metadata": {},
     "output_type": "execute_result"
    }
   ],
   "source": [
    "555 in number"
   ]
  },
  {
   "cell_type": "code",
   "execution_count": 23,
   "id": "256930dc-87b4-44c7-afca-dbe9ffd052a1",
   "metadata": {},
   "outputs": [
    {
     "data": {
      "text/plain": [
       "False"
      ]
     },
     "execution_count": 23,
     "metadata": {},
     "output_type": "execute_result"
    }
   ],
   "source": [
    "#not in operator\n",
    "number = [ 123 , 45 , 789 , 525 ]\n",
    "45 not in number"
   ]
  },
  {
   "cell_type": "code",
   "execution_count": 24,
   "id": "1ebd017c-5d7c-4c1c-9fcd-97aa09b3ae56",
   "metadata": {},
   "outputs": [
    {
     "data": {
      "text/plain": [
       "True"
      ]
     },
     "execution_count": 24,
     "metadata": {},
     "output_type": "execute_result"
    }
   ],
   "source": [
    "52 not in number"
   ]
  },
  {
   "cell_type": "markdown",
   "id": "cd1b86c0-cdc4-4c6f-8952-12c9a27fcf9d",
   "metadata": {},
   "source": [
    "#DEEP COPY AND SHALOW COPY"
   ]
  },
  {
   "cell_type": "code",
   "execution_count": 28,
   "id": "892c59c9-c599-458b-8201-f615255673a4",
   "metadata": {},
   "outputs": [
    {
     "data": {
      "text/plain": [
       "['rice', 'beans', 'fruits']"
      ]
     },
     "execution_count": 28,
     "metadata": {},
     "output_type": "execute_result"
    }
   ],
   "source": [
    "#Shallow copy >> value will change in both the lists\n",
    "grocery = [ \"rice\" , \"beans\" , \"fruits\"]\n",
    "a = grocery\n",
    "a"
   ]
  },
  {
   "cell_type": "code",
   "execution_count": 29,
   "id": "74fc2313-4816-46ac-a0e7-7da85881e2b9",
   "metadata": {},
   "outputs": [],
   "source": [
    "a[2] = \"magie\""
   ]
  },
  {
   "cell_type": "code",
   "execution_count": 30,
   "id": "38e56850-4290-4906-9373-ca250498c573",
   "metadata": {},
   "outputs": [
    {
     "data": {
      "text/plain": [
       "['rice', 'beans', 'magie']"
      ]
     },
     "execution_count": 30,
     "metadata": {},
     "output_type": "execute_result"
    }
   ],
   "source": [
    "a"
   ]
  },
  {
   "cell_type": "code",
   "execution_count": 31,
   "id": "89cacd11-f2bc-4886-97a5-c6da2b695c18",
   "metadata": {},
   "outputs": [
    {
     "data": {
      "text/plain": [
       "['rice', 'beans', 'magie']"
      ]
     },
     "execution_count": 31,
     "metadata": {},
     "output_type": "execute_result"
    }
   ],
   "source": [
    "grocery"
   ]
  },
  {
   "cell_type": "code",
   "execution_count": 35,
   "id": "a3f3a080-4696-4f03-adab-571c48550698",
   "metadata": {},
   "outputs": [
    {
     "data": {
      "text/plain": [
       "['rice', 'beans', 'fruits']"
      ]
     },
     "execution_count": 35,
     "metadata": {},
     "output_type": "execute_result"
    }
   ],
   "source": [
    "#DEEP COPY >> it doesn't modify the second list\n",
    "grocery = [ \"rice\" , \"beans\" , \"fruits\"]\n",
    "b=grocery.copy()\n",
    "b"
   ]
  },
  {
   "cell_type": "code",
   "execution_count": 36,
   "id": "43adb503-f1c1-4bd4-b6be-7afb77aac8d3",
   "metadata": {},
   "outputs": [],
   "source": [
    "b[0] = \"wheatflour\""
   ]
  },
  {
   "cell_type": "code",
   "execution_count": 37,
   "id": "0b576383-46dc-41a9-b2f5-e992e440b086",
   "metadata": {},
   "outputs": [
    {
     "data": {
      "text/plain": [
       "['wheatflour', 'beans', 'fruits']"
      ]
     },
     "execution_count": 37,
     "metadata": {},
     "output_type": "execute_result"
    }
   ],
   "source": [
    "b"
   ]
  },
  {
   "cell_type": "code",
   "execution_count": 38,
   "id": "30ce3c88-9359-4b16-83e7-66bd8000c4dc",
   "metadata": {},
   "outputs": [
    {
     "data": {
      "text/plain": [
       "['rice', 'beans', 'fruits']"
      ]
     },
     "execution_count": 38,
     "metadata": {},
     "output_type": "execute_result"
    }
   ],
   "source": [
    "#it doesn't modify the another list>\n",
    "grocery"
   ]
  },
  {
   "cell_type": "markdown",
   "id": "c288b9ea-7274-43a3-9155-51e68079fca7",
   "metadata": {},
   "source": [
    "#SORTING LIST"
   ]
  },
  {
   "cell_type": "code",
   "execution_count": 39,
   "id": "f8b8a15a-ab98-4adc-a235-66f637594d77",
   "metadata": {},
   "outputs": [
    {
     "data": {
      "text/plain": [
       "['atharv', 'bhoomi', 'divi', 'vansh']"
      ]
     },
     "execution_count": 39,
     "metadata": {},
     "output_type": "execute_result"
    }
   ],
   "source": [
    "#it sorts the data>>\n",
    "name = [ \"divi\" , \"vansh\", \"atharv\" , \"bhoomi\" ]\n",
    "sorted(name)"
   ]
  },
  {
   "cell_type": "markdown",
   "id": "36a41032-3402-4d78-98db-0a46d8ca17b2",
   "metadata": {},
   "source": [
    "#length method"
   ]
  },
  {
   "cell_type": "code",
   "execution_count": 40,
   "id": "bdfb3774-eb25-4029-b24e-1c5b718cce49",
   "metadata": {},
   "outputs": [
    {
     "data": {
      "text/plain": [
       "4"
      ]
     },
     "execution_count": 40,
     "metadata": {},
     "output_type": "execute_result"
    }
   ],
   "source": [
    "#to know the number of elements in the lsi\n",
    "name = [ \"divi\" , \"vansh\", \"atharv\" , \"bhoomi\" ]\n",
    "len(name)"
   ]
  },
  {
   "cell_type": "markdown",
   "id": "bac5b28a-d1ff-4b6b-affe-c7affd7a72ed",
   "metadata": {},
   "source": [
    "#count method"
   ]
  },
  {
   "cell_type": "code",
   "execution_count": 45,
   "id": "c5a86248-ac4b-416f-8071-4363c15fccf5",
   "metadata": {},
   "outputs": [
    {
     "data": {
      "text/plain": [
       "2"
      ]
     },
     "execution_count": 45,
     "metadata": {},
     "output_type": "execute_result"
    }
   ],
   "source": [
    "#it gives the count of specific elements in the list\n",
    "NAME = [ \"divi\" , \"vansh\", \"atharv\" , \"bhoomi\" , \"divi\"]\n",
    "NAME.count(\"divi\")"
   ]
  },
  {
   "cell_type": "markdown",
   "id": "7a0a8ea8-67fd-4c48-be5b-a29d1c60e71f",
   "metadata": {},
   "source": [
    "#remove method"
   ]
  },
  {
   "cell_type": "code",
   "execution_count": 48,
   "id": "546c78a9-21e8-473b-9ffd-0ab74a754fa1",
   "metadata": {},
   "outputs": [
    {
     "data": {
      "text/plain": [
       "['divi', 'vansh', 'bhoomi', 'divi']"
      ]
     },
     "execution_count": 48,
     "metadata": {},
     "output_type": "execute_result"
    }
   ],
   "source": [
    "#it removes the element from the list>\n",
    "NAME = [ \"divi\" , \"vansh\", \"atharv\" , \"bhoomi\" , \"divi\"]\n",
    "NAME.remove(\"atharv\")\n",
    "NAME"
   ]
  },
  {
   "cell_type": "code",
   "execution_count": null,
   "id": "dabcf9cd-85fc-4709-bf52-3e881de1f67a",
   "metadata": {},
   "outputs": [],
   "source": [
    "#DELETE >> deletes the variables\n",
    "del.NAME\n",
    "NAME"
   ]
  },
  {
   "cell_type": "code",
   "execution_count": 54,
   "id": "1d53f81e-d5df-482a-8c99-172e522f92b9",
   "metadata": {},
   "outputs": [
    {
     "data": {
      "text/plain": [
       "[]"
      ]
     },
     "execution_count": 54,
     "metadata": {},
     "output_type": "execute_result"
    }
   ],
   "source": [
    "#if we want to only delete only elements not variable>\n",
    "NAME = [ \"divi\" , \"vansh\", \"atharv\" , \"bhoomi\" , \"divi\"]\n",
    "NAME.clear()\n",
    "NAME"
   ]
  },
  {
   "cell_type": "markdown",
   "id": "d8ad798a-42ca-432f-8283-a61fb8609e81",
   "metadata": {},
   "source": [
    "#POP METHOD"
   ]
  },
  {
   "cell_type": "code",
   "execution_count": 56,
   "id": "965e4cdd-fc29-4fbd-b7d6-fce6920f5d4c",
   "metadata": {},
   "outputs": [
    {
     "data": {
      "text/plain": [
       "'d'"
      ]
     },
     "execution_count": 56,
     "metadata": {},
     "output_type": "execute_result"
    }
   ],
   "source": [
    "#removes the last element from the list\n",
    "list1 = [ \"a\" , \"b\" , \"c\" ,\"d\"]\n",
    "list1.pop()"
   ]
  },
  {
   "cell_type": "code",
   "execution_count": 57,
   "id": "68299a5b-4c66-47d4-96bc-54ab4280022a",
   "metadata": {},
   "outputs": [
    {
     "data": {
      "text/plain": [
       "['a', 'b', 'c']"
      ]
     },
     "execution_count": 57,
     "metadata": {},
     "output_type": "execute_result"
    }
   ],
   "source": [
    "list1"
   ]
  },
  {
   "cell_type": "markdown",
   "id": "626955af-b38a-4019-9548-9ebc2a43ac7d",
   "metadata": {},
   "source": [
    "#list comprehension method"
   ]
  },
  {
   "cell_type": "code",
   "execution_count": 74,
   "id": "8a7173b1-1c0d-42bb-8ae3-c40cff6f2014",
   "metadata": {},
   "outputs": [
    {
     "data": {
      "text/plain": [
       "[20, 40, 60, 80]"
      ]
     },
     "execution_count": 74,
     "metadata": {},
     "output_type": "execute_result"
    }
   ],
   "source": [
    "#to write consize code\n",
    "price = [ 10 , 20 , 30 , 40 ]\n",
    "doubledprice=[]\n",
    "for i in price:\n",
    "    doubledprice.append(i*2)\n",
    "doubledprice"
   ]
  },
  {
   "cell_type": "code",
   "execution_count": null,
   "id": "7480b310-b8da-49bc-b0ae-ba65347bda47",
   "metadata": {},
   "outputs": [],
   "source": []
  },
  {
   "cell_type": "code",
   "execution_count": null,
   "id": "8fc302bd-3fd5-4f81-844c-ebca13622cc5",
   "metadata": {},
   "outputs": [],
   "source": []
  },
  {
   "cell_type": "code",
   "execution_count": null,
   "id": "29bd8b24-1c43-4ce2-90cc-d1b8da5fddf4",
   "metadata": {},
   "outputs": [],
   "source": []
  }
 ],
 "metadata": {
  "kernelspec": {
   "display_name": "Python 3 (ipykernel)",
   "language": "python",
   "name": "python3"
  },
  "language_info": {
   "codemirror_mode": {
    "name": "ipython",
    "version": 3
   },
   "file_extension": ".py",
   "mimetype": "text/x-python",
   "name": "python",
   "nbconvert_exporter": "python",
   "pygments_lexer": "ipython3",
   "version": "3.10.8"
  }
 },
 "nbformat": 4,
 "nbformat_minor": 5
}
