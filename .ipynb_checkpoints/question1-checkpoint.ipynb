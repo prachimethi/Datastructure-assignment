{
 "cells": [
  {
   "cell_type": "raw",
   "id": "4b0d4f2b-8735-4c8a-a37f-a718946a58ea",
   "metadata": {},
   "source": [
    "Ques1. discuss string slicing and provide examples ?"
   ]
  },
  {
   "cell_type": "raw",
   "id": "dde628ed-02c1-468a-b346-aa95d9e40585",
   "metadata": {},
   "source": [
    "#string slicing allows you to extract substrings from a string using a specific syntax. "
   ]
  },
  {
   "cell_type": "code",
   "execution_count": 7,
   "id": "49d26b34-ae72-4cbc-8254-be7497b6d1bd",
   "metadata": {},
   "outputs": [
    {
     "data": {
      "text/plain": [
       "'h'"
      ]
     },
     "execution_count": 7,
     "metadata": {},
     "output_type": "execute_result"
    }
   ],
   "source": [
    "#basic slicing example 1\n",
    "s = \"hello world\"\n",
    "s[0]"
   ]
  },
  {
   "cell_type": "code",
   "execution_count": 10,
   "id": "dc676b40-c978-4695-bf34-8319cc3414c9",
   "metadata": {},
   "outputs": [
    {
     "data": {
      "text/plain": [
       "'s'"
      ]
     },
     "execution_count": 10,
     "metadata": {},
     "output_type": "execute_result"
    }
   ],
   "source": [
    "#example 2\n",
    "strings = \" pw skills \"\n",
    "strings[4]"
   ]
  },
  {
   "cell_type": "code",
   "execution_count": 2,
   "id": "eacf76f0-2d1e-4835-9860-5f4a209e0cd5",
   "metadata": {},
   "outputs": [
    {
     "data": {
      "text/plain": [
       "'hello'"
      ]
     },
     "execution_count": 2,
     "metadata": {},
     "output_type": "execute_result"
    }
   ],
   "source": [
    "#[start:end] example 1\n",
    "s = \"hello world\"\n",
    "s[0:5]"
   ]
  },
  {
   "cell_type": "code",
   "execution_count": 11,
   "id": "89240b40-3ca6-419b-aaf0-fe85088320ca",
   "metadata": {},
   "outputs": [
    {
     "data": {
      "text/plain": [
       "' i am a '"
      ]
     },
     "execution_count": 11,
     "metadata": {},
     "output_type": "execute_result"
    }
   ],
   "source": [
    "#example2\n",
    "strings = \" i am a good student \"\n",
    "strings[0:8]"
   ]
  },
  {
   "cell_type": "code",
   "execution_count": 3,
   "id": "917154e0-cfff-4b25-be78-69ace10e18ce",
   "metadata": {},
   "outputs": [
    {
     "data": {
      "text/plain": [
       "'hlowrd'"
      ]
     },
     "execution_count": 3,
     "metadata": {},
     "output_type": "execute_result"
    }
   ],
   "source": [
    "#using steps example 1\n",
    "s = \"hello world\"\n",
    "s[::2]"
   ]
  },
  {
   "cell_type": "code",
   "execution_count": 14,
   "id": "979a8c9c-fd14-4221-b96e-43fa9935fa67",
   "metadata": {},
   "outputs": [
    {
     "data": {
      "text/plain": [
       "'y e vyeo'"
      ]
     },
     "execution_count": 14,
     "metadata": {},
     "output_type": "execute_result"
    }
   ],
   "source": [
    "#example 2\n",
    "string = \"you are a lovely person\"\n",
    "string[::3]"
   ]
  },
  {
   "cell_type": "code",
   "execution_count": 15,
   "id": "87011d58-81ba-435e-99d1-b842c1527324",
   "metadata": {},
   "outputs": [
    {
     "data": {
      "text/plain": [
       "'hello wo'"
      ]
     },
     "execution_count": 15,
     "metadata": {},
     "output_type": "execute_result"
    }
   ],
   "source": [
    "#negative idicies example 1 \n",
    "s = \"hello world\"\n",
    "s[ :-3]"
   ]
  },
  {
   "cell_type": "code",
   "execution_count": 16,
   "id": "8167ab5c-28f6-484d-b3be-82e83660e517",
   "metadata": {},
   "outputs": [
    {
     "data": {
      "text/plain": [
       "'ent'"
      ]
     },
     "execution_count": 16,
     "metadata": {},
     "output_type": "execute_result"
    }
   ],
   "source": [
    "#example 2 \n",
    "string = \"i am a good student\"\n",
    "string[ -3: ]"
   ]
  },
  {
   "cell_type": "code",
   "execution_count": 6,
   "id": "38eca090-6198-4b86-ae28-4f4da5dc8ebf",
   "metadata": {},
   "outputs": [
    {
     "data": {
      "text/plain": [
       "'dlrow olleh'"
      ]
     },
     "execution_count": 6,
     "metadata": {},
     "output_type": "execute_result"
    }
   ],
   "source": [
    "#reversing a string example 1\n",
    "s = \"hello world\"\n",
    "s[ ::-1]"
   ]
  },
  {
   "cell_type": "code",
   "execution_count": 17,
   "id": "c951ecbd-a92c-4fe0-bc39-e8895ad3782f",
   "metadata": {},
   "outputs": [
    {
     "data": {
      "text/plain": [
       "'uyeawhyh'"
      ]
     },
     "execution_count": 17,
     "metadata": {},
     "output_type": "execute_result"
    }
   ],
   "source": [
    "#example 2\n",
    "string = \"hey how are you\"\n",
    "string[ ::-2]"
   ]
  },
  {
   "cell_type": "code",
   "execution_count": null,
   "id": "fb804d82-886c-45c8-b6b1-520b6fad6fdb",
   "metadata": {},
   "outputs": [],
   "source": []
  }
 ],
 "metadata": {
  "kernelspec": {
   "display_name": "Python 3 (ipykernel)",
   "language": "python",
   "name": "python3"
  },
  "language_info": {
   "codemirror_mode": {
    "name": "ipython",
    "version": 3
   },
   "file_extension": ".py",
   "mimetype": "text/x-python",
   "name": "python",
   "nbconvert_exporter": "python",
   "pygments_lexer": "ipython3",
   "version": "3.10.8"
  }
 },
 "nbformat": 4,
 "nbformat_minor": 5
}
