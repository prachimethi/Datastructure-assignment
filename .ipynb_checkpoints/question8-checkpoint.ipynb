{
 "cells": [
  {
   "cell_type": "raw",
   "id": "d4363452-e657-4c18-ba6e-3d6430960443",
   "metadata": {},
   "source": [
    "question8 - Discuss the importance of dictionary keys being immutable and provide examples?"
   ]
  },
  {
   "cell_type": "raw",
   "id": "46ea389d-4461-4d7c-99b6-cc173ba4d02b",
   "metadata": {},
   "source": [
    " Immutability is essential for keys because it ensures that the dictionary can efficiently look up values based on their keys."
   ]
  },
  {
   "cell_type": "markdown",
   "id": "fd1b2bd0-9d6e-4218-be78-7969c1b87326",
   "metadata": {},
   "source": [
    "Example:"
   ]
  },
  {
   "cell_type": "code",
   "execution_count": 3,
   "id": "0c654343-abad-4468-908c-91546c4a99cb",
   "metadata": {},
   "outputs": [],
   "source": [
    "dict = {\"fruits\" : \"grapes\" , \"name\" : \"prachi\"}\n",
    "dict[\"fruits\"] = \"apple\""
   ]
  },
  {
   "cell_type": "code",
   "execution_count": 4,
   "id": "bb9d7f8c-d264-46bc-a6f2-688760909c96",
   "metadata": {},
   "outputs": [
    {
     "data": {
      "text/plain": [
       "{'fruits': 'apple', 'name': 'prachi'}"
      ]
     },
     "execution_count": 4,
     "metadata": {},
     "output_type": "execute_result"
    }
   ],
   "source": [
    "dict"
   ]
  },
  {
   "cell_type": "code",
   "execution_count": null,
   "id": "e9f1ab48-5c1d-4b33-8dda-fe46d693e83e",
   "metadata": {},
   "outputs": [],
   "source": [
    "#we can modify or delete the values but not the key because keys are immutable"
   ]
  }
 ],
 "metadata": {
  "kernelspec": {
   "display_name": "Python 3 (ipykernel)",
   "language": "python",
   "name": "python3"
  },
  "language_info": {
   "codemirror_mode": {
    "name": "ipython",
    "version": 3
   },
   "file_extension": ".py",
   "mimetype": "text/x-python",
   "name": "python",
   "nbconvert_exporter": "python",
   "pygments_lexer": "ipython3",
   "version": "3.10.8"
  }
 },
 "nbformat": 4,
 "nbformat_minor": 5
}
