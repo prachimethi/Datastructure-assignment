{
 "cells": [
  {
   "cell_type": "raw",
   "id": "0c3c9103-d217-48ad-8833-7a7d54ce8781",
   "metadata": {},
   "source": [
    "question Discuss the use cases of tuples and sets in python programming?"
   ]
  },
  {
   "cell_type": "raw",
   "id": "0cfd1f4f-cc35-4bd8-a1c3-69381d404713",
   "metadata": {},
   "source": [
    "Tuples\n",
    "Immutable: Once created, their contents cannot be changed.\n",
    "Ordered: Elements have a specific order and can be accessed by index.\n",
    "Allow Duplicates: Multiple occurrences of the same value are allo"
   ]
  },
  {
   "cell_type": "code",
   "execution_count": 1,
   "id": "650973e5-7fa2-4e5d-a1b4-7e6b6d9ed350",
   "metadata": {},
   "outputs": [
    {
     "ename": "TypeError",
     "evalue": "'tuple' object does not support item assignment",
     "output_type": "error",
     "traceback": [
      "\u001b[0;31m---------------------------------------------------------------------------\u001b[0m",
      "\u001b[0;31mTypeError\u001b[0m                                 Traceback (most recent call last)",
      "Cell \u001b[0;32mIn[1], line 3\u001b[0m\n\u001b[1;32m      1\u001b[0m \u001b[38;5;66;03m#Use cases > tuples is a data structure where you don't want to modify the data \u001b[39;00m\n\u001b[1;32m      2\u001b[0m empid \u001b[38;5;241m=\u001b[39m ( \u001b[38;5;241m1\u001b[39m, \u001b[38;5;241m2\u001b[39m, \u001b[38;5;241m3\u001b[39m, \u001b[38;5;241m4\u001b[39m, \u001b[38;5;241m5\u001b[39m)\n\u001b[0;32m----> 3\u001b[0m \u001b[43mempid\u001b[49m\u001b[43m[\u001b[49m\u001b[38;5;241;43m1\u001b[39;49m\u001b[43m]\u001b[49m \u001b[38;5;241m=\u001b[39m \u001b[38;5;241m3\u001b[39m\n",
      "\u001b[0;31mTypeError\u001b[0m: 'tuple' object does not support item assignment"
     ]
    }
   ],
   "source": [
    "#Use cases > tuples is a data structure where you don't want to modify the data \n",
    "empid = ( 1, 2, 3, 4, 5)\n",
    "empid[1] = 3"
   ]
  },
  {
   "cell_type": "code",
   "execution_count": 2,
   "id": "84a7cc4f-7d77-4872-b488-9cc61f2e356e",
   "metadata": {},
   "outputs": [],
   "source": [
    "#its throwing an error because we can't modify data in tuples"
   ]
  },
  {
   "cell_type": "code",
   "execution_count": 4,
   "id": "54724a2c-ee5b-4392-9a5b-9b2263027cf0",
   "metadata": {},
   "outputs": [
    {
     "data": {
      "text/plain": [
       "(1, 2, 3, 4, 5, 1, 2, 3, 4, 5)"
      ]
     },
     "execution_count": 4,
     "metadata": {},
     "output_type": "execute_result"
    }
   ],
   "source": [
    "#use case as repeatation\n",
    "empid = ( 1, 2, 3, 4, 5)\n",
    "empid*2"
   ]
  },
  {
   "cell_type": "raw",
   "id": "f4cc3c2c-bc99-4de3-a187-b4f87b43975c",
   "metadata": {},
   "source": [
    "#use cases in sets\n",
    "Mutable: You can add and remove elements after the set has been created.\n",
    "Unordered: Elements do not have a specific order and cannot be accessed by index.\n",
    "Unique Elements: Sets automatically discard duplicate elements, so each element appears only once."
   ]
  },
  {
   "cell_type": "code",
   "execution_count": 6,
   "id": "dee5d1a0-a0c3-49fb-9b92-9e01d433e8c5",
   "metadata": {},
   "outputs": [
    {
     "data": {
      "text/plain": [
       "True"
      ]
     },
     "execution_count": 6,
     "metadata": {},
     "output_type": "execute_result"
    }
   ],
   "source": [
    "#membership testing\n",
    "set = { \"apple\" , \"banana\" , \"mango\", \"guava\"}\n",
    "\"apple\" in set"
   ]
  },
  {
   "cell_type": "code",
   "execution_count": 7,
   "id": "6f99e773-892b-48f7-9f99-94623fb9842a",
   "metadata": {},
   "outputs": [
    {
     "data": {
      "text/plain": [
       "True"
      ]
     },
     "execution_count": 7,
     "metadata": {},
     "output_type": "execute_result"
    }
   ],
   "source": [
    "\"grapes\" not in set"
   ]
  },
  {
   "cell_type": "code",
   "execution_count": 8,
   "id": "afb69013-5ae3-4c8e-ae16-0271c3c7e545",
   "metadata": {},
   "outputs": [
    {
     "data": {
      "text/plain": [
       "{1, 2, 3, 4, 5}"
      ]
     },
     "execution_count": 8,
     "metadata": {},
     "output_type": "execute_result"
    }
   ],
   "source": [
    "#removing duplicates>> set only gives the unique elements\n",
    "numbers = {1, 2, 3, 4, 5, 1, 2, 3}\n",
    "numbers"
   ]
  },
  {
   "cell_type": "raw",
   "id": "4616e90c-c170-4f94-a6f6-6c781aea0d08",
   "metadata": {},
   "source": [
    "Set Operations: Sets support mathematical operations like union, intersection, difference, and symmetric difference, which can be useful for various algorithms and data processing.\n"
   ]
  }
 ],
 "metadata": {
  "kernelspec": {
   "display_name": "Python 3 (ipykernel)",
   "language": "python",
   "name": "python3"
  },
  "language_info": {
   "codemirror_mode": {
    "name": "ipython",
    "version": 3
   },
   "file_extension": ".py",
   "mimetype": "text/x-python",
   "name": "python",
   "nbconvert_exporter": "python",
   "pygments_lexer": "ipython3",
   "version": "3.10.8"
  }
 },
 "nbformat": 4,
 "nbformat_minor": 5
}
