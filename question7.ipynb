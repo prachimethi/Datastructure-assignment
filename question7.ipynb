{
 "cells": [
  {
   "cell_type": "raw",
   "id": "6effb0c4-b6bc-4e88-8b58-c724c68e1802",
   "metadata": {},
   "source": [
    "question7- Describe how to add, modify and delete items in dictionary with examples"
   ]
  },
  {
   "cell_type": "markdown",
   "id": "75c74a86-fe1c-40d4-83ce-219b8a6babe8",
   "metadata": {},
   "source": [
    "Adding items"
   ]
  },
  {
   "cell_type": "raw",
   "id": "f30ae0f2-a761-4ef4-9385-3719bd6450ab",
   "metadata": {},
   "source": [
    "To add an item to a dictionary, you simply assign a value to a new key. If the key doesn’t exist, it will be added.\n",
    "example:"
   ]
  },
  {
   "cell_type": "code",
   "execution_count": 3,
   "id": "cfb28f2b-b95c-49ed-a985-c1db352e0445",
   "metadata": {},
   "outputs": [
    {
     "data": {
      "text/plain": [
       "{'name': 'prachi', 'class': '9th', 'sub': 'hindi'}"
      ]
     },
     "execution_count": 3,
     "metadata": {},
     "output_type": "execute_result"
    }
   ],
   "source": [
    "dict = { \"name\": \"prachi\" , \"class\":\"9th\" }\n",
    "dict[\"sub\"] = \"hindi\"\n",
    "dict      "
   ]
  },
  {
   "cell_type": "markdown",
   "id": "4adee8f2-758f-4337-a274-2bab95a18c6b",
   "metadata": {},
   "source": [
    "Modify"
   ]
  },
  {
   "cell_type": "raw",
   "id": "26cbbe95-37cd-47aa-b902-60e208283606",
   "metadata": {},
   "source": [
    "To modify an existing item, you assign a new value to an existing key.\n",
    "example:"
   ]
  },
  {
   "cell_type": "code",
   "execution_count": 5,
   "id": "0aca1e37-1624-4b5b-9343-12793845a00f",
   "metadata": {},
   "outputs": [
    {
     "data": {
      "text/plain": [
       "{'name': 'vansh', 'class': '9th'}"
      ]
     },
     "execution_count": 5,
     "metadata": {},
     "output_type": "execute_result"
    }
   ],
   "source": [
    "dict = { \"name\": \"prachi\" , \"class\":\"9th\" }\n",
    "dict[\"name\"] = \"vansh\"\n",
    "dict"
   ]
  },
  {
   "cell_type": "markdown",
   "id": "7653fc9d-fe56-4f44-99b0-80326b26cb38",
   "metadata": {},
   "source": [
    "Delete"
   ]
  },
  {
   "cell_type": "raw",
   "id": "ea8f218b-8d94-4596-8f77-fe07fe8f7650",
   "metadata": {},
   "source": [
    "To delete an item from a dictionary, you use the del statement or the pop() method."
   ]
  },
  {
   "cell_type": "code",
   "execution_count": 11,
   "id": "cde1cfb1-c8ff-48ab-b7a6-d3d9b529cc9e",
   "metadata": {},
   "outputs": [
    {
     "data": {
      "text/plain": [
       "{'class': '9th'}"
      ]
     },
     "execution_count": 11,
     "metadata": {},
     "output_type": "execute_result"
    }
   ],
   "source": [
    "#using del method\n",
    "dict = { \"name\": \"prachi\" , \"class\":\"9th\" }\n",
    "del dict[\"name\"]\n",
    "dict"
   ]
  },
  {
   "cell_type": "code",
   "execution_count": 15,
   "id": "25fbcd3f-9d5b-4b2e-9499-7b5dd77b4276",
   "metadata": {},
   "outputs": [
    {
     "data": {
      "text/plain": [
       "{'name': 'prachi'}"
      ]
     },
     "execution_count": 15,
     "metadata": {},
     "output_type": "execute_result"
    }
   ],
   "source": [
    "#using pop method\n",
    "dict = { \"name\": \"prachi\" , \"class\":\"9th\" }\n",
    "dict.pop(\"class\")\n",
    "dict"
   ]
  },
  {
   "cell_type": "code",
   "execution_count": null,
   "id": "50dee404-1c02-45f9-a78f-1b9a9ddfff8e",
   "metadata": {},
   "outputs": [],
   "source": []
  }
 ],
 "metadata": {
  "kernelspec": {
   "display_name": "Python 3 (ipykernel)",
   "language": "python",
   "name": "python3"
  },
  "language_info": {
   "codemirror_mode": {
    "name": "ipython",
    "version": 3
   },
   "file_extension": ".py",
   "mimetype": "text/x-python",
   "name": "python",
   "nbconvert_exporter": "python",
   "pygments_lexer": "ipython3",
   "version": "3.10.8"
  }
 },
 "nbformat": 4,
 "nbformat_minor": 5
}
