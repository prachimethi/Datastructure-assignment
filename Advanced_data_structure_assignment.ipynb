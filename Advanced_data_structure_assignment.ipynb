{
  "nbformat": 4,
  "nbformat_minor": 0,
  "metadata": {
    "colab": {
      "provenance": [],
      "authorship_tag": "ABX9TyMZQXxFDr0638m0BADn93gX",
      "include_colab_link": true
    },
    "kernelspec": {
      "name": "python3",
      "display_name": "Python 3"
    },
    "language_info": {
      "name": "python"
    }
  },
  "cells": [
    {
      "cell_type": "markdown",
      "metadata": {
        "id": "view-in-github",
        "colab_type": "text"
      },
      "source": [
        "<a href=\"https://colab.research.google.com/github/prachimethi/Datastructure-assignment/blob/main/Advanced_data_structure_assignment.ipynb\" target=\"_parent\"><img src=\"https://colab.research.google.com/assets/colab-badge.svg\" alt=\"Open In Colab\"/></a>"
      ]
    },
    {
      "cell_type": "markdown",
      "source": [
        "Ques-1 Write a code to reverse a string?"
      ],
      "metadata": {
        "id": "E4xl80F2Iagz"
      }
    },
    {
      "cell_type": "code",
      "execution_count": null,
      "metadata": {
        "id": "LKHLSeuW9s2D",
        "colab": {
          "base_uri": "https://localhost:8080/",
          "height": 35
        },
        "outputId": "27a609c6-e51d-4939-d9e3-9be3acf11558"
      },
      "outputs": [
        {
          "output_type": "execute_result",
          "data": {
            "text/plain": [
              "'sllikswp'"
            ],
            "application/vnd.google.colaboratory.intrinsic+json": {
              "type": "string"
            }
          },
          "metadata": {},
          "execution_count": 1
        }
      ],
      "source": [
        "code = \"pwskills\"\n",
        "code[::-1]"
      ]
    },
    {
      "cell_type": "markdown",
      "source": [
        "Ques-2 Write a code to count the number of vowels in a string?"
      ],
      "metadata": {
        "id": "-M2qBBFsIzKe"
      }
    },
    {
      "cell_type": "code",
      "source": [
        "s = input(\"enter string\")\n",
        "count=0\n",
        "for i in s:\n",
        "  if i.lower() in \"aieou\":\n",
        "    count+=1\n",
        "print(\"number of vowels\", count)"
      ],
      "metadata": {
        "colab": {
          "base_uri": "https://localhost:8080/"
        },
        "id": "rJXQWjzhIxv-",
        "outputId": "e01eac02-db11-424e-f79c-377a0a16e8fb"
      },
      "execution_count": null,
      "outputs": [
        {
          "output_type": "stream",
          "name": "stdout",
          "text": [
            "enter string aeroplane\n",
            "number of vowels 5\n"
          ]
        }
      ]
    },
    {
      "cell_type": "markdown",
      "source": [
        "Ques-3 Write a code to to check if a given string is a palindrome or not?"
      ],
      "metadata": {
        "id": "t-fUp7EULMxd"
      }
    },
    {
      "cell_type": "code",
      "source": [
        "string = \"prachi\"\n",
        "if string == string[::-1]:\n",
        "  print(\"string is a palindrome\")\n",
        "else:\n",
        "  print(\"string is not a palindrome\")"
      ],
      "metadata": {
        "colab": {
          "base_uri": "https://localhost:8080/"
        },
        "id": "SjN_y2CqInm7",
        "outputId": "0fb0b648-9b31-47d9-8675-b4d51d14f4de"
      },
      "execution_count": null,
      "outputs": [
        {
          "output_type": "stream",
          "name": "stdout",
          "text": [
            "string is not a palindrome\n"
          ]
        }
      ]
    },
    {
      "cell_type": "code",
      "source": [
        "string = \"eye\"\n",
        "if string == string[::-1]:\n",
        "  print(\"string is a palindrome\")\n",
        "else:\n",
        "  print(\"string is not a palindrome\")"
      ],
      "metadata": {
        "colab": {
          "base_uri": "https://localhost:8080/"
        },
        "id": "nvGi8PiqLxIY",
        "outputId": "3628c780-1368-4ad0-bad8-e509ce8ca735"
      },
      "execution_count": null,
      "outputs": [
        {
          "output_type": "stream",
          "name": "stdout",
          "text": [
            "string is a palindrome\n"
          ]
        }
      ]
    },
    {
      "cell_type": "markdown",
      "source": [
        "Ques-4 Write a code to check if two given strings are anagrams of each other ?"
      ],
      "metadata": {
        "id": "82cWzw2HMErj"
      }
    },
    {
      "cell_type": "code",
      "source": [
        "s1 = \"listen\"\n",
        "s2 = \"silent\"\n",
        "if sorted(s1) == sorted(s2) :\n",
        "  print(\"s1 and s2 are anagrams of each other\")\n",
        "else:\n",
        "  print(\"s1 and s2 are not anagrams\")"
      ],
      "metadata": {
        "colab": {
          "base_uri": "https://localhost:8080/"
        },
        "id": "aN83xwsgL99k",
        "outputId": "ea440776-6340-4637-9189-0be9e5fda807"
      },
      "execution_count": null,
      "outputs": [
        {
          "output_type": "stream",
          "name": "stdout",
          "text": [
            "s1 and s2 are anagrams of each other\n"
          ]
        }
      ]
    },
    {
      "cell_type": "markdown",
      "source": [
        "Ques-5 Write a code to find all occurence of a given substring within another string?"
      ],
      "metadata": {
        "id": "LePtYkHyNWY1"
      }
    },
    {
      "cell_type": "code",
      "source": [
        "string = \"hello world\"\n",
        "print(string.find(\"e\"))"
      ],
      "metadata": {
        "colab": {
          "base_uri": "https://localhost:8080/"
        },
        "id": "8dqJDaSyMphA",
        "outputId": "0b3f2347-d098-489f-8800-2df4ab322084"
      },
      "execution_count": null,
      "outputs": [
        {
          "output_type": "stream",
          "name": "stdout",
          "text": [
            "1\n"
          ]
        }
      ]
    },
    {
      "cell_type": "code",
      "source": [
        "print(string.find(\"w\"))"
      ],
      "metadata": {
        "colab": {
          "base_uri": "https://localhost:8080/"
        },
        "id": "Nzx7ZemJOR7s",
        "outputId": "1212fbca-6261-4e24-e536-e9dd04b740cf"
      },
      "execution_count": null,
      "outputs": [
        {
          "output_type": "stream",
          "name": "stdout",
          "text": [
            "6\n"
          ]
        }
      ]
    },
    {
      "cell_type": "markdown",
      "source": [
        "Ques-six  Write a code to perform basic string comprehension using the count of repeated characters?"
      ],
      "metadata": {
        "id": "_v00SLPCjZIz"
      }
    },
    {
      "cell_type": "code",
      "source": [
        "text = input(\"text\")\n",
        "ch =  input(\"character\")\n",
        "count = 0\n",
        "for i in text:\n",
        "  if i == ch:\n",
        "    count+=1\n",
        "if count >= 1:\n",
        "  print(\"count(text)\")\n",
        "else:\n",
        "  print(\"not found\")"
      ],
      "metadata": {
        "id": "MsDCbWtwW-FJ",
        "colab": {
          "base_uri": "https://localhost:8080/"
        },
        "outputId": "c13c2414-9000-4838-b094-4c4fca7afb68"
      },
      "execution_count": null,
      "outputs": [
        {
          "output_type": "stream",
          "name": "stdout",
          "text": [
            "textchrome\n",
            "charactera\n",
            "not found\n"
          ]
        }
      ]
    },
    {
      "cell_type": "code",
      "source": [
        "str1 = \"hello\"\n",
        "str1.count(\"l\")"
      ],
      "metadata": {
        "colab": {
          "base_uri": "https://localhost:8080/"
        },
        "id": "siRue6GlkWta",
        "outputId": "12e0d144-51c0-4396-b907-9df9303404da"
      },
      "execution_count": null,
      "outputs": [
        {
          "output_type": "execute_result",
          "data": {
            "text/plain": [
              "2"
            ]
          },
          "metadata": {},
          "execution_count": 48
        }
      ]
    },
    {
      "cell_type": "markdown",
      "source": [
        "Ques-7 Write a code to determine if a string has all unique characters?"
      ],
      "metadata": {
        "id": "nFc_xxJHBHL7"
      }
    },
    {
      "cell_type": "code",
      "source": [
        "st = \"abcd\"\n",
        "x=list(set(st))\n",
        "y=list(st)\n",
        "x.sort()\n",
        "y.sort()\n",
        "if(x==y):\n",
        "\tprint(True)\n",
        "else:\n",
        "\tprint(False)\n"
      ],
      "metadata": {
        "colab": {
          "base_uri": "https://localhost:8080/"
        },
        "id": "dc13TA_sCInd",
        "outputId": "72e1dea6-026d-46e2-9c0c-8e7b15c7898f"
      },
      "execution_count": null,
      "outputs": [
        {
          "output_type": "stream",
          "name": "stdout",
          "text": [
            "True\n"
          ]
        }
      ]
    },
    {
      "cell_type": "markdown",
      "source": [
        "Ques-8 Write a code to convert a given string to uppercase or lowercase?"
      ],
      "metadata": {
        "id": "duXx38_2Hexl"
      }
    },
    {
      "cell_type": "code",
      "source": [
        "a = \"pwskills\"\n",
        "a.upper()"
      ],
      "metadata": {
        "colab": {
          "base_uri": "https://localhost:8080/",
          "height": 35
        },
        "id": "eD4dWiEyGDmb",
        "outputId": "cc26b737-cd9c-4130-cbc9-537d1efefd80"
      },
      "execution_count": null,
      "outputs": [
        {
          "output_type": "execute_result",
          "data": {
            "text/plain": [
              "'PWSKILLS'"
            ],
            "application/vnd.google.colaboratory.intrinsic+json": {
              "type": "string"
            }
          },
          "metadata": {},
          "execution_count": 31
        }
      ]
    },
    {
      "cell_type": "code",
      "source": [
        "a.lower()"
      ],
      "metadata": {
        "colab": {
          "base_uri": "https://localhost:8080/",
          "height": 35
        },
        "id": "FscSH449HyXU",
        "outputId": "e6e246f6-2300-46d4-8a5d-dc2b363e54e4"
      },
      "execution_count": null,
      "outputs": [
        {
          "output_type": "execute_result",
          "data": {
            "text/plain": [
              "'pwskills'"
            ],
            "application/vnd.google.colaboratory.intrinsic+json": {
              "type": "string"
            }
          },
          "metadata": {},
          "execution_count": 32
        }
      ]
    },
    {
      "cell_type": "markdown",
      "source": [
        "Ques-9 Write a code to count number of words in a string?"
      ],
      "metadata": {
        "id": "_uEH9cf2IWWO"
      }
    },
    {
      "cell_type": "code",
      "source": [
        "string= \"pwskills\"\n",
        "len(string)"
      ],
      "metadata": {
        "colab": {
          "base_uri": "https://localhost:8080/"
        },
        "id": "qFeoJg2WH4Qc",
        "outputId": "a52f75ae-0d9a-4b92-f1e8-9c04e9817a2e"
      },
      "execution_count": null,
      "outputs": [
        {
          "output_type": "execute_result",
          "data": {
            "text/plain": [
              "8"
            ]
          },
          "metadata": {},
          "execution_count": 33
        }
      ]
    },
    {
      "cell_type": "markdown",
      "source": [
        "Ques-10 Write a code to concatenate two strings without using + operator?"
      ],
      "metadata": {
        "id": "31BQI_NHJFau"
      }
    },
    {
      "cell_type": "code",
      "source": [
        "s1 = \"pw\"\n",
        "s2 = \"skills\"\n",
        "if s1 != s2:\n",
        "  print(s1 + s2)\n",
        "else:\n",
        "  print(\"not equal\")"
      ],
      "metadata": {
        "colab": {
          "base_uri": "https://localhost:8080/"
        },
        "id": "TbRsRZlWI-sN",
        "outputId": "a2cb2ff6-ba49-43be-b9c1-f7ee4fc9be72"
      },
      "execution_count": null,
      "outputs": [
        {
          "output_type": "stream",
          "name": "stdout",
          "text": [
            "pwskills\n"
          ]
        }
      ]
    },
    {
      "cell_type": "markdown",
      "source": [
        "Ques-11 write a code to remove all occurence of a specific element in a list?"
      ],
      "metadata": {
        "id": "8C6ae9S6Kxcx"
      }
    },
    {
      "cell_type": "code",
      "source": [
        "lis = [ \"pw\", \"skills\", \"pw\", \"prachi\", \"sita\"]\n",
        "lis.remove(\"pw\")\n",
        "lis"
      ],
      "metadata": {
        "colab": {
          "base_uri": "https://localhost:8080/"
        },
        "id": "mkINWrmXKMzA",
        "outputId": "50ce9c77-0791-4827-ad76-3754862777c3"
      },
      "execution_count": null,
      "outputs": [
        {
          "output_type": "execute_result",
          "data": {
            "text/plain": [
              "['skills', 'pw', 'prachi', 'sita']"
            ]
          },
          "metadata": {},
          "execution_count": 43
        }
      ]
    },
    {
      "cell_type": "markdown",
      "source": [
        "Ques-12 implement a code to find second largest number in a given list of integers?"
      ],
      "metadata": {
        "id": "_8fHNgExMkS9"
      }
    },
    {
      "cell_type": "code",
      "source": [
        "l1 = [10, 20, 40, 0, 100]\n",
        "l1.sort()\n",
        "print(\"second largest element:\" , l1[-2])"
      ],
      "metadata": {
        "id": "iQmPMM1BMhFk",
        "colab": {
          "base_uri": "https://localhost:8080/"
        },
        "outputId": "f0e11a4e-f7a7-4170-ebaf-f359c211ee14"
      },
      "execution_count": null,
      "outputs": [
        {
          "output_type": "stream",
          "name": "stdout",
          "text": [
            "second largest element: 40\n"
          ]
        }
      ]
    },
    {
      "cell_type": "markdown",
      "source": [
        "Ques- 13 Create a code to count the occurence of each element in a list and return a dictionary with elements as keys and their counts as values?"
      ],
      "metadata": {
        "id": "G4JK4W2Rrm0K"
      }
    },
    {
      "cell_type": "code",
      "source": [
        "i = ['apple','red','apple','red','red','pear']\n",
        "d = {x:i.count(x) for x in i}\n",
        "print(d)"
      ],
      "metadata": {
        "colab": {
          "base_uri": "https://localhost:8080/"
        },
        "id": "D6CkRZd3J1Ul",
        "outputId": "c8a9b0e1-5637-4996-e876-f2f04b512797"
      },
      "execution_count": null,
      "outputs": [
        {
          "output_type": "stream",
          "name": "stdout",
          "text": [
            "{'apple': 2, 'red': 3, 'pear': 1}\n"
          ]
        }
      ]
    },
    {
      "cell_type": "markdown",
      "source": [
        "Ques-14 Write a code to reverse a list in-place without using built in reverse function?"
      ],
      "metadata": {
        "id": "0dW9mnlLKK_G"
      }
    },
    {
      "cell_type": "code",
      "source": [
        "list1 = [\"apple\", \"grapes\", \"guava\", \"pine\"]\n",
        "list1[::-1]"
      ],
      "metadata": {
        "colab": {
          "base_uri": "https://localhost:8080/"
        },
        "id": "Km5cbqyLKBKG",
        "outputId": "7d080ed5-fc8e-4f8a-8102-9fcf79177ea7"
      },
      "execution_count": null,
      "outputs": [
        {
          "output_type": "execute_result",
          "data": {
            "text/plain": [
              "['pine', 'guava', 'grapes', 'apple']"
            ]
          },
          "metadata": {},
          "execution_count": 24
        }
      ]
    },
    {
      "cell_type": "markdown",
      "source": [
        "Ques-15 Implement a code to find and removes duplicates from a list while preserving the original order of elements?"
      ],
      "metadata": {
        "id": "FAvG_VBnLPXp"
      }
    },
    {
      "cell_type": "code",
      "source": [
        "list1 = [1 ,2 , 3, 4, 1, 2, 4, 5, 3, 8, 9]\n",
        "for i in list1:\n",
        "  if list1.count(i) >1:\n",
        "    list1.remove(i)"
      ],
      "metadata": {
        "id": "GM1eYJPgLHIO"
      },
      "execution_count": null,
      "outputs": []
    },
    {
      "cell_type": "code",
      "source": [
        "list1\n"
      ],
      "metadata": {
        "colab": {
          "base_uri": "https://localhost:8080/"
        },
        "id": "Dn_Ep9pGNNaX",
        "outputId": "8c7d4c68-b224-4fa3-fbc7-7c098a2be799"
      },
      "execution_count": null,
      "outputs": [
        {
          "output_type": "execute_result",
          "data": {
            "text/plain": [
              "[4, 1, 2, 4, 5, 3, 8, 9]"
            ]
          },
          "metadata": {},
          "execution_count": 57
        }
      ]
    },
    {
      "cell_type": "markdown",
      "source": [
        "Ques-16 Create a list to check if a given list is sorted(either asecending or descending order)or not"
      ],
      "metadata": {
        "id": "xAX3q94jelKk"
      }
    },
    {
      "cell_type": "code",
      "source": [
        "\n",
        "l = [ \"algo\", \"data\", \"cat\", \"iter\"]\n",
        "sorted(l)"
      ],
      "metadata": {
        "colab": {
          "base_uri": "https://localhost:8080/"
        },
        "id": "bVuua0tpNpWI",
        "outputId": "0d926c82-7df1-491d-dba7-d2ca1d989c1f"
      },
      "execution_count": null,
      "outputs": [
        {
          "output_type": "execute_result",
          "data": {
            "text/plain": [
              "['algo', 'cat', 'data', 'iter']"
            ]
          },
          "metadata": {},
          "execution_count": 60
        }
      ]
    },
    {
      "cell_type": "code",
      "source": [
        "sorted(l[::-1])"
      ],
      "metadata": {
        "colab": {
          "base_uri": "https://localhost:8080/"
        },
        "id": "E5nFSMKOggAp",
        "outputId": "dafcff20-e133-4360-9f47-61d3a67f439e"
      },
      "execution_count": null,
      "outputs": [
        {
          "output_type": "execute_result",
          "data": {
            "text/plain": [
              "['algo', 'cat', 'data', 'iter']"
            ]
          },
          "metadata": {},
          "execution_count": 61
        }
      ]
    },
    {
      "cell_type": "code",
      "source": [
        "numbers = [1, 3, 4, 2]\n",
        "numbers.sort(reverse=True)\n",
        "print(numbers)\n"
      ],
      "metadata": {
        "colab": {
          "base_uri": "https://localhost:8080/"
        },
        "id": "bNXKDnXogqgb",
        "outputId": "66842239-151a-4b27-be5d-e8be48e2f5aa"
      },
      "execution_count": null,
      "outputs": [
        {
          "output_type": "stream",
          "name": "stdout",
          "text": [
            "[4, 3, 2, 1]\n"
          ]
        }
      ]
    },
    {
      "cell_type": "markdown",
      "source": [
        "Ques-17 Write a code to merge two sorted list in single sorted list?"
      ],
      "metadata": {
        "id": "weZdvHHBhk-r"
      }
    },
    {
      "cell_type": "code",
      "source": [
        "l = [ \"apple\", \"guava\",\"pear\"]\n",
        "l1 = [\"grapes\", \"banana\"]\n",
        "lis = [sorted(l + l1)]\n",
        "lis\n"
      ],
      "metadata": {
        "colab": {
          "base_uri": "https://localhost:8080/"
        },
        "id": "NiqvAkkChWcy",
        "outputId": "309a1191-ce68-4e67-a974-1bcf17c27779"
      },
      "execution_count": null,
      "outputs": [
        {
          "output_type": "execute_result",
          "data": {
            "text/plain": [
              "[['apple', 'banana', 'grapes', 'guava', 'pear']]"
            ]
          },
          "metadata": {},
          "execution_count": 73
        }
      ]
    },
    {
      "cell_type": "markdown",
      "source": [
        "Ques-18 Implement a code to find the intersection of two given lists?"
      ],
      "metadata": {
        "id": "fNsDbC1Ti2ik"
      }
    },
    {
      "cell_type": "code",
      "source": [
        "lis1 = [ 1, 2, 4, 8 , 100, 132, 90]\n",
        "lis2 = [1, 4 , 100, 0, 70, 80, 90]\n",
        "set(lis1).intersection(lis2)"
      ],
      "metadata": {
        "colab": {
          "base_uri": "https://localhost:8080/"
        },
        "id": "1CkBcXJKiSZ8",
        "outputId": "78e29c41-6eda-4c12-c935-f909c0b941f9"
      },
      "execution_count": null,
      "outputs": [
        {
          "output_type": "execute_result",
          "data": {
            "text/plain": [
              "{1, 4, 90, 100}"
            ]
          },
          "metadata": {},
          "execution_count": 94
        }
      ]
    },
    {
      "cell_type": "markdown",
      "source": [
        "Ques-19 Create a code to find the union of two lists without duplicates?"
      ],
      "metadata": {
        "id": "gGrr9PFrnwow"
      }
    },
    {
      "cell_type": "code",
      "source": [
        "lis = [\"apple\", \"banana\", \"date\",\"orange\"]\n",
        "lst = [\"guava\", \"apple\", \"orange\",\"pear\"]\n",
        "set(lis).union(lst)"
      ],
      "metadata": {
        "colab": {
          "base_uri": "https://localhost:8080/"
        },
        "id": "Tx_z-3Ojk7rT",
        "outputId": "ed410f29-3267-4727-87c3-3e42b1109913"
      },
      "execution_count": null,
      "outputs": [
        {
          "output_type": "execute_result",
          "data": {
            "text/plain": [
              "{'apple', 'banana', 'date', 'guava', 'orange', 'pear'}"
            ]
          },
          "metadata": {},
          "execution_count": 98
        }
      ]
    },
    {
      "cell_type": "markdown",
      "source": [
        "Ques-20 Write a code to shuffle a given list randomly without using any built in shuffle function?"
      ],
      "metadata": {
        "id": "3CaSHuBGpR_D"
      }
    },
    {
      "cell_type": "code",
      "source": [
        "list1 = [1, 2, 3, 4, 5, 6, 7, 8, 9, 10]\n",
        "list2 = []\n",
        "run = True\n",
        "while run:\n",
        "   a =list1.pop()\n",
        "   a =list2.append(a)\n",
        "   if len(list1)==0:\n",
        "    run = False\n",
        "print(list2)"
      ],
      "metadata": {
        "colab": {
          "base_uri": "https://localhost:8080/"
        },
        "id": "zjXzA3MPlfG_",
        "outputId": "7769acfb-e427-46f7-a7ab-49347036eced"
      },
      "execution_count": null,
      "outputs": [
        {
          "output_type": "stream",
          "name": "stdout",
          "text": [
            "[10, 9, 8, 7, 6, 5, 4, 3, 2, 1]\n"
          ]
        }
      ]
    },
    {
      "cell_type": "markdown",
      "source": [
        "Ques-21 Write a code that take two tuples as input and return a new tuple containing elements that are both common to both input tuples?"
      ],
      "metadata": {
        "id": "_pQvbHIDrW43"
      }
    },
    {
      "cell_type": "code",
      "source": [
        "t= (1,2,3,4,5,100)\n",
        "t1 = (2,4,5,8,39,778)\n",
        "set(t).union(t1)"
      ],
      "metadata": {
        "colab": {
          "base_uri": "https://localhost:8080/"
        },
        "id": "lvqWDFIRrSe7",
        "outputId": "45d78f63-4397-4c96-8d87-e3f8fecba04a"
      },
      "execution_count": null,
      "outputs": [
        {
          "output_type": "execute_result",
          "data": {
            "text/plain": [
              "{1, 2, 3, 4, 5, 8, 39, 100, 778}"
            ]
          },
          "metadata": {},
          "execution_count": 113
        }
      ]
    },
    {
      "cell_type": "markdown",
      "source": [
        "Ques-22 Create a code that prompts the user to enter two sets of integers separated by commas. then, print the intersection of these two sets?"
      ],
      "metadata": {
        "id": "CKHQwUX80Wyu"
      }
    },
    {
      "cell_type": "code",
      "source": [
        "s = {1,2,3,4,}\n",
        "s1= {4,9,8,7,3,2}\n",
        "s | s1"
      ],
      "metadata": {
        "colab": {
          "base_uri": "https://localhost:8080/"
        },
        "id": "PrO9YZMnzML3",
        "outputId": "f2f10361-c733-40c9-e4bc-64db97980e12"
      },
      "execution_count": null,
      "outputs": [
        {
          "output_type": "execute_result",
          "data": {
            "text/plain": [
              "{1, 2, 3, 4, 7, 8, 9}"
            ]
          },
          "metadata": {},
          "execution_count": 117
        }
      ]
    },
    {
      "cell_type": "markdown",
      "source": [
        "Ques-23 Write a code to concatenate two tuples. the function should take two tuples as input and returns a new tuple containing element from both input tuples?"
      ],
      "metadata": {
        "id": "Np49lLp625qx"
      }
    },
    {
      "cell_type": "code",
      "source": [
        "t = input(\"enter tuple\")\n",
        "t1 = input(\"enter tuple2\")\n",
        "t2 = (t + t1)\n",
        "print(t2)"
      ],
      "metadata": {
        "colab": {
          "base_uri": "https://localhost:8080/"
        },
        "id": "gd0jB_PT1z77",
        "outputId": "8d0ed98c-be1f-4d36-906b-f664796f4a0e"
      },
      "execution_count": null,
      "outputs": [
        {
          "output_type": "stream",
          "name": "stdout",
          "text": [
            "enter tuple(1,2)\n",
            "enter tuple2(3 , 4)\n",
            "(1,2)(3 , 4)\n"
          ]
        }
      ]
    },
    {
      "cell_type": "markdown",
      "source": [
        "Ques-24 Develop a code that prompts the user to input two sets of strings. then, print the element that are present in the first set but not in the second set?"
      ],
      "metadata": {
        "id": "FG0s0Dk3w9OU"
      }
    },
    {
      "cell_type": "code",
      "source": [
        "a = input()\n",
        "b = input()\n",
        "setA = set(a)\n",
        "setB = set(b)\n",
        "print(setA - setB)"
      ],
      "metadata": {
        "id": "Rmy79Aqk6OY5",
        "colab": {
          "base_uri": "https://localhost:8080/"
        },
        "outputId": "4bb5f0c4-6402-4911-fc67-9ef3171ee4a3"
      },
      "execution_count": null,
      "outputs": [
        {
          "output_type": "stream",
          "name": "stdout",
          "text": [
            "\"data\" , \"algo\"\n",
            "\"data\" , \"key\"\n",
            "{'g', 'o', 'l'}\n"
          ]
        }
      ]
    },
    {
      "cell_type": "markdown",
      "source": [
        "Ques-25 Create a code that take a tuple and two integers as input. the function should return a new tuple containing element from the original tuple within the specified range of indecies?\n"
      ],
      "metadata": {
        "id": "5COdO0zPMMS3"
      }
    },
    {
      "cell_type": "code",
      "source": [
        "t = input(\"enter\")\n",
        "t2 = (t)\n",
        "t2"
      ],
      "metadata": {
        "id": "K0b09vj2zcR9",
        "colab": {
          "base_uri": "https://localhost:8080/",
          "height": 53
        },
        "outputId": "d21ec4c2-d2de-4ab8-eb31-e6489cc018fe"
      },
      "execution_count": null,
      "outputs": [
        {
          "name": "stdout",
          "output_type": "stream",
          "text": [
            "enter1, 2 , 3, 4\n"
          ]
        },
        {
          "output_type": "execute_result",
          "data": {
            "text/plain": [
              "'1, 2 , 3, 4'"
            ],
            "application/vnd.google.colaboratory.intrinsic+json": {
              "type": "string"
            }
          },
          "metadata": {},
          "execution_count": 8
        }
      ]
    },
    {
      "cell_type": "markdown",
      "source": [
        "Ques-26 Write a code that prompts the user to input two set of character , then print the union of two sets?\n"
      ],
      "metadata": {
        "id": "GtD8ORaKD4NK"
      }
    },
    {
      "cell_type": "code",
      "source": [
        "set1 = {1,2,3,4}\n",
        "set2 = {3,4,5,7}\n",
        "print(set1.union(set2))"
      ],
      "metadata": {
        "id": "958Va72xNlla",
        "colab": {
          "base_uri": "https://localhost:8080/"
        },
        "outputId": "c0e24521-7897-47e3-c7a2-e42c96a570c0"
      },
      "execution_count": null,
      "outputs": [
        {
          "output_type": "stream",
          "name": "stdout",
          "text": [
            "{1, 2, 3, 4, 5, 7}\n"
          ]
        }
      ]
    },
    {
      "cell_type": "markdown",
      "source": [
        "Ques-27 Develop a code that takes a tuple of integers as input. the function should return the maximum and minimum values from the tuple using tuple unpacking?"
      ],
      "metadata": {
        "id": "xit4AUVjMvPS"
      }
    },
    {
      "cell_type": "code",
      "source": [
        "t = input()\n",
        "for x in t:\n",
        "  if x==t:\n",
        "    print(max(t), min(t))\n"
      ],
      "metadata": {
        "colab": {
          "base_uri": "https://localhost:8080/"
        },
        "id": "Spvsoq1OOLqM",
        "outputId": "00680d43-f016-478e-b43f-8d8a9549c766"
      },
      "execution_count": null,
      "outputs": [
        {
          "name": "stdout",
          "output_type": "stream",
          "text": [
            "1, 2, 0\n"
          ]
        }
      ]
    },
    {
      "cell_type": "markdown",
      "source": [
        "Ques-28 Create a code that defines two sets of integers then, print the union , intersection and difference of these two?"
      ],
      "metadata": {
        "id": "1gOKJ29JXR0c"
      }
    },
    {
      "cell_type": "code",
      "source": [
        "#union>> combines elements from two set excluding duplicates\n",
        "set1 = { 1, 2 , 3, 4, 5}\n",
        "set2 = {7, 8 , 9 }\n",
        "set3 = set1 | set2\n",
        "set3\n"
      ],
      "metadata": {
        "colab": {
          "base_uri": "https://localhost:8080/"
        },
        "id": "INlK5Wleqi8V",
        "outputId": "7aed05ea-209d-4c53-a0fc-7a6fe015a618"
      },
      "execution_count": null,
      "outputs": [
        {
          "output_type": "execute_result",
          "data": {
            "text/plain": [
              "{1, 2, 3, 4, 5, 7, 8, 9}"
            ]
          },
          "metadata": {},
          "execution_count": 2
        }
      ]
    },
    {
      "cell_type": "code",
      "source": [
        "# intersection >> prints only common elements\n",
        "set1 = {1 , 2, 3, 4, 5 ,7 ,8 , 9}\n",
        "set2 = {2, 4, 8, 10}\n",
        "s = set1 & set2\n",
        "s"
      ],
      "metadata": {
        "colab": {
          "base_uri": "https://localhost:8080/"
        },
        "id": "QDLxBQecYKBo",
        "outputId": "3070655e-2202-4975-a16f-9dcf7f9a1332"
      },
      "execution_count": null,
      "outputs": [
        {
          "output_type": "execute_result",
          "data": {
            "text/plain": [
              "{2, 4, 8}"
            ]
          },
          "metadata": {},
          "execution_count": 3
        }
      ]
    },
    {
      "cell_type": "markdown",
      "source": [
        "Ques-29 Write a code that takes a tuple and element as input. the function should return the count of occurence of given element in the tuple."
      ],
      "metadata": {
        "id": "Zb1mlbG_Y8VI"
      }
    },
    {
      "cell_type": "code",
      "source": [
        "t1 = input(\"enter element\")\n",
        "print(t1.count(\"a\"))"
      ],
      "metadata": {
        "colab": {
          "base_uri": "https://localhost:8080/"
        },
        "id": "ogVROibfY5Zk",
        "outputId": "f9b13d9a-2368-4e53-9fda-5598f6482a7e"
      },
      "execution_count": null,
      "outputs": [
        {
          "output_type": "stream",
          "name": "stdout",
          "text": [
            "enter element\"a\" , \"b\" , \"c\" , \"a\" , \"b\" , \"a\"\n",
            "3\n"
          ]
        }
      ]
    },
    {
      "cell_type": "markdown",
      "source": [
        "Ques-30 Develop a code that prompts the user to input two sets of strings. then, print the symmetric difference of these two?"
      ],
      "metadata": {
        "id": "AINfCk2XbCfP"
      }
    },
    {
      "cell_type": "code",
      "source": [
        "def symmetricdiff(str1, str2):\n",
        "  set1 = set(str1)\n",
        "  set2 = set(str2)\n",
        "  symdif = set1^(set2)\n",
        "  return (symdif)\n",
        "str1 = input(\"enter\")\n",
        "str2 = input(\"enter\")\n",
        "symmetricdiff(str1 , str2)"
      ],
      "metadata": {
        "colab": {
          "base_uri": "https://localhost:8080/"
        },
        "id": "PrQLePj5ZgD3",
        "outputId": "b6b4057d-74c2-4ba3-caa1-92633b1eedee"
      },
      "execution_count": null,
      "outputs": [
        {
          "name": "stdout",
          "output_type": "stream",
          "text": [
            "enter\"data\" , \"sci\" , \"per\"\n",
            "enter\"sci\" , \"data\" , \"percent\"\n"
          ]
        },
        {
          "output_type": "execute_result",
          "data": {
            "text/plain": [
              "{'n'}"
            ]
          },
          "metadata": {},
          "execution_count": 24
        }
      ]
    },
    {
      "cell_type": "markdown",
      "source": [
        "Ques-31 Write a code that takes a list of words as input and returns a dictionary where the keys are unique words and the values are the frequencies of those words in the input list?"
      ],
      "metadata": {
        "id": "d-QYX-tjoSd2"
      }
    },
    {
      "cell_type": "code",
      "source": [
        "def word_frequencies(word_list):\n",
        "    frequency_dict = {}\n",
        "    for word in word_list:\n",
        "        if word in frequency_dict:\n",
        "            frequency_dict[word] += 1\n",
        "        else:\n",
        "            frequency_dict[word] = 1\n",
        "    return frequency_dict\n",
        "words = [\"apple\", \"banana\", \"apple\", \"orange\", \"banana\", \"apple\"]\n",
        "frequencies = word_frequencies(words)\n",
        "print(frequencies)\n"
      ],
      "metadata": {
        "colab": {
          "base_uri": "https://localhost:8080/"
        },
        "id": "VSJchRNsbwYL",
        "outputId": "45f682c5-f00d-4e5e-bee2-a78039129239"
      },
      "execution_count": null,
      "outputs": [
        {
          "output_type": "stream",
          "name": "stdout",
          "text": [
            "{'apple': 3, 'banana': 2, 'orange': 1}\n"
          ]
        }
      ]
    },
    {
      "cell_type": "markdown",
      "source": [
        "Ques - 32 Write a code that takes two dictonaries as input and merge them into a single dictonary. if there are common keys values should be added together?"
      ],
      "metadata": {
        "id": "Oe2gT2WX8m_X"
      }
    },
    {
      "cell_type": "code",
      "source": [
        "\n",
        "def merge_dictionaries(dict1, dict2):\n",
        "    merged_dict = dict1.copy()\n",
        "\n",
        "    for key, value in dict2.items():\n",
        "        if key in merged_dict:\n",
        "            merged_dict[key] += value\n",
        "        else:\n",
        "            merged_dict[key] = value\n",
        "    return merged_dict\n",
        "dict_a = {'a': 1, 'b': 2, 'c': 3}\n",
        "dict_b = {'b': 3, 'c': 4, 'd': 5}\n",
        "\n",
        "merged = merge_dictionaries(dict_a, dict_b)\n",
        "print(merged)"
      ],
      "metadata": {
        "colab": {
          "base_uri": "https://localhost:8080/"
        },
        "id": "xcFkMfuw_B5M",
        "outputId": "a8697e17-7908-44e3-9dba-4244d2aabc82"
      },
      "execution_count": null,
      "outputs": [
        {
          "output_type": "stream",
          "name": "stdout",
          "text": [
            "{'a': 1, 'b': 5, 'c': 7, 'd': 5}\n"
          ]
        }
      ]
    },
    {
      "cell_type": "markdown",
      "source": [
        "Ques-33 Write a code to access a value in nested dictonary. the function should take the dictionary and a list of keys as input and return the corresponding value. if any of the key do not exist in the dictonary. the function should return none?"
      ],
      "metadata": {
        "id": "bgQLg8uzAkLE"
      }
    },
    {
      "cell_type": "code",
      "source": [
        "def get_nested_value(nested_dict, keys):\n",
        "    current = nested_dict\n",
        "    for key in keys:\n",
        "        if isinstance(current, dict) and key in current:\n",
        "            current = current[key]\n",
        "        else:\n",
        "            return None\n",
        "    return current\n",
        "\n",
        "# Example usage:\n",
        "nested_dict = {\n",
        "    'a': {\n",
        "        'b': {\n",
        "            'c': 42\n",
        "        }\n",
        "    }\n",
        "}\n",
        "\n",
        "keys = ['a', 'b', 'c']\n",
        "print(get_nested_value(nested_dict, keys))"
      ],
      "metadata": {
        "id": "Dvwv-qK4_sx9",
        "colab": {
          "base_uri": "https://localhost:8080/"
        },
        "outputId": "da1ddcb2-ff2d-41db-e16e-149729d55389"
      },
      "execution_count": 1,
      "outputs": [
        {
          "output_type": "stream",
          "name": "stdout",
          "text": [
            "42\n",
            "None\n"
          ]
        }
      ]
    },
    {
      "cell_type": "code",
      "source": [
        "keys_invalid = ['a', 'b', 'd']\n",
        "print(get_nested_value(nested_dict, keys_invalid))"
      ],
      "metadata": {
        "colab": {
          "base_uri": "https://localhost:8080/"
        },
        "id": "QaFUVhYkLK9M",
        "outputId": "b062a0b8-512b-45c1-9009-64212eeb63e4"
      },
      "execution_count": 2,
      "outputs": [
        {
          "output_type": "stream",
          "name": "stdout",
          "text": [
            "None\n"
          ]
        }
      ]
    },
    {
      "cell_type": "markdown",
      "source": [
        "Ques-34 Write a code that takes dictionary as input and return a sorted version of its based on values. you can choose whether to sort in ascending or descending order?"
      ],
      "metadata": {
        "id": "pykZLxIdLi17"
      }
    },
    {
      "cell_type": "code",
      "source": [
        "def sort_dict_by_value(input_dict, descending=False):\n",
        "    return dict(sorted(input_dict.items(), key=lambda item: item[1], reverse=descending))\n",
        "\n",
        "# Example usage:\n",
        "my_dict = {'apple': 3, 'banana': 1, 'cherry': 2}\n",
        "\n",
        "sorted_asc = sort_dict_by_value(my_dict)\n",
        "print(\"Sorted in ascending order:\", sorted_asc)\n",
        "\n",
        "sorted_desc = sort_dict_by_value(my_dict, descending=True)\n",
        "print(\"Sorted in descending order:\", sorted_desc)"
      ],
      "metadata": {
        "colab": {
          "base_uri": "https://localhost:8080/"
        },
        "id": "DsCkevigNsP3",
        "outputId": "ebf0e1fd-eda0-4e15-9352-41020a43114e"
      },
      "execution_count": 10,
      "outputs": [
        {
          "output_type": "stream",
          "name": "stdout",
          "text": [
            "Sorted in ascending order: {'banana': 1, 'cherry': 2, 'apple': 3}\n",
            "Sorted in descending order: {'apple': 3, 'cherry': 2, 'banana': 1}\n"
          ]
        }
      ]
    },
    {
      "cell_type": "markdown",
      "source": [
        "Ques-35 Write a code that inverts a dictionary , swapping keys and value. ensure that the inverted dictionary correctly handle cases where multiple keys have same value by storing the keys as a list in the inverted dictionary?"
      ],
      "metadata": {
        "id": "ssMDUUXMOdH1"
      }
    },
    {
      "cell_type": "code",
      "source": [
        "def invert_dict(input_dict):\n",
        "    inverted_dict = {}\n",
        "\n",
        "    for key, value in input_dict.items():\n",
        "        if value in inverted_dict:\n",
        "            inverted_dict[value].append(key)\n",
        "        else:\n",
        "            inverted_dict[value] = [key]\n",
        "\n",
        "    return inverted_dict\n",
        "\n",
        "# Example usage:\n",
        "my_dict = {'a': 1, 'b': 2, 'c': 1, 'd': 3}\n",
        "\n",
        "inverted = invert_dict(my_dict)\n",
        "print(\"Inverted dictionary:\", inverted)"
      ],
      "metadata": {
        "colab": {
          "base_uri": "https://localhost:8080/"
        },
        "id": "K74mn2XcOY3J",
        "outputId": "d571c4b3-15dd-4a6b-df41-3530282b0cfa"
      },
      "execution_count": 11,
      "outputs": [
        {
          "output_type": "stream",
          "name": "stdout",
          "text": [
            "Inverted dictionary: {1: ['a', 'c'], 2: ['b'], 3: ['d']}\n"
          ]
        }
      ]
    },
    {
      "cell_type": "code",
      "source": [],
      "metadata": {
        "id": "WtCGCj_wPvXm"
      },
      "execution_count": null,
      "outputs": []
    }
  ]
}