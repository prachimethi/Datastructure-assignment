{
 "cells": [
  {
   "cell_type": "raw",
   "id": "f043fed9-da63-43b4-8c72-c7735db16cda",
   "metadata": {},
   "source": [
    "question3 how to access, modify and delete elements in a list with examples ?"
   ]
  },
  {
   "cell_type": "raw",
   "id": "7aa5d089-e285-49b1-86f3-a1ad1b806f1f",
   "metadata": {},
   "source": [
    "# we can access list using index method\n"
   ]
  },
  {
   "cell_type": "code",
   "execution_count": 1,
   "id": "2216cf6f-8bb3-4a6d-9263-80586debdba6",
   "metadata": {},
   "outputs": [
    {
     "data": {
      "text/plain": [
       "'mango'"
      ]
     },
     "execution_count": 1,
     "metadata": {},
     "output_type": "execute_result"
    }
   ],
   "source": [
    "list = [ \"aaple\" , \"mango\" , \"grapes\" , \"guava\" ]\n",
    "list[1]"
   ]
  },
  {
   "cell_type": "raw",
   "id": "27196088-697b-41a1-80be-941f399687a9",
   "metadata": {},
   "source": [
    "# we can modify elemnts in the list using index or append method"
   ]
  },
  {
   "cell_type": "code",
   "execution_count": 3,
   "id": "ad4aa1e2-2f4d-40ae-8d6b-50958dc4bb5c",
   "metadata": {},
   "outputs": [
    {
     "data": {
      "text/plain": [
       "['aaple', 'mango', 'pear', 'guava']"
      ]
     },
     "execution_count": 3,
     "metadata": {},
     "output_type": "execute_result"
    }
   ],
   "source": [
    "#index method\n",
    "list = [ \"aaple\" , \"mango\" , \"grapes\" , \"guava\" ]\n",
    "list[2] = \"pear\"\n",
    "list"
   ]
  },
  {
   "cell_type": "code",
   "execution_count": 14,
   "id": "6bd58906-0463-4c0c-b3f3-b6bbc133d4d4",
   "metadata": {},
   "outputs": [
    {
     "data": {
      "text/plain": [
       "['aaple', 'mango', 'grapes', 'guava', 'banana']"
      ]
     },
     "execution_count": 14,
     "metadata": {},
     "output_type": "execute_result"
    }
   ],
   "source": [
    "#append method\n",
    "list = [ \"aaple\" , \"mango\" , \"grapes\" , \"guava\" ]\n",
    "list.append(\"banana\")\n",
    "list"
   ]
  },
  {
   "cell_type": "raw",
   "id": "42609f47-7328-4d98-bd41-65319711dcbd",
   "metadata": {},
   "source": [
    "#we can delete element using remove or pop method"
   ]
  },
  {
   "cell_type": "code",
   "execution_count": 15,
   "id": "a53883f5-45f4-4765-86d0-8a84a0d74e45",
   "metadata": {},
   "outputs": [
    {
     "data": {
      "text/plain": [
       "['aaple', 'mango', 'guava']"
      ]
     },
     "execution_count": 15,
     "metadata": {},
     "output_type": "execute_result"
    }
   ],
   "source": [
    "#remove method\n",
    "list = [ \"aaple\" , \"mango\" , \"grapes\" , \"guava\" ]\n",
    "list.remove(\"grapes\")\n",
    "list"
   ]
  },
  {
   "cell_type": "code",
   "execution_count": 16,
   "id": "b74be3a0-6f30-46c3-b7fc-1037ea9d88c0",
   "metadata": {},
   "outputs": [
    {
     "data": {
      "text/plain": [
       "'guava'"
      ]
     },
     "execution_count": 16,
     "metadata": {},
     "output_type": "execute_result"
    }
   ],
   "source": [
    "#pop method >> example1\n",
    "list = [ \"aaple\" , \"mango\" , \"grapes\" , \"guava\" ]\n",
    "list.pop()"
   ]
  },
  {
   "cell_type": "code",
   "execution_count": 8,
   "id": "75998323-ad3e-438a-a255-a8bbcfb8fd44",
   "metadata": {},
   "outputs": [
    {
     "data": {
      "text/plain": [
       "['aaple', 'mango', 'grapes']"
      ]
     },
     "execution_count": 8,
     "metadata": {},
     "output_type": "execute_result"
    }
   ],
   "source": [
    "list"
   ]
  },
  {
   "cell_type": "code",
   "execution_count": 9,
   "id": "fc016dd3-5cad-49bc-a6d4-db8e9021d0ed",
   "metadata": {},
   "outputs": [
    {
     "data": {
      "text/plain": [
       "'mango'"
      ]
     },
     "execution_count": 9,
     "metadata": {},
     "output_type": "execute_result"
    }
   ],
   "source": [
    "#example 2 \n",
    "list = [ \"aaple\" , \"mango\" , \"grapes\" , ]\n",
    "list.pop(1)"
   ]
  },
  {
   "cell_type": "code",
   "execution_count": 12,
   "id": "93047014-ff50-49f4-a085-eafbb78d988b",
   "metadata": {},
   "outputs": [
    {
     "data": {
      "text/plain": [
       "['aaple', 'grapes']"
      ]
     },
     "execution_count": 12,
     "metadata": {},
     "output_type": "execute_result"
    }
   ],
   "source": [
    "list"
   ]
  },
  {
   "cell_type": "code",
   "execution_count": null,
   "id": "6c865f9f-20c0-4c40-ab17-2e20bd4a563f",
   "metadata": {},
   "outputs": [],
   "source": []
  }
 ],
 "metadata": {
  "kernelspec": {
   "display_name": "Python 3 (ipykernel)",
   "language": "python",
   "name": "python3"
  },
  "language_info": {
   "codemirror_mode": {
    "name": "ipython",
    "version": 3
   },
   "file_extension": ".py",
   "mimetype": "text/x-python",
   "name": "python",
   "nbconvert_exporter": "python",
   "pygments_lexer": "ipython3",
   "version": "3.10.8"
  }
 },
 "nbformat": 4,
 "nbformat_minor": 5
}
